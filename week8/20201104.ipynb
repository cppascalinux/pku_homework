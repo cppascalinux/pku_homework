{
 "metadata": {
  "language_info": {
   "codemirror_mode": {
    "name": "ipython",
    "version": 3
   },
   "file_extension": ".py",
   "mimetype": "text/x-python",
   "name": "python",
   "nbconvert_exporter": "python",
   "pygments_lexer": "ipython3",
   "version": "3.8.6-final"
  },
  "orig_nbformat": 2,
  "kernelspec": {
   "name": "python3",
   "display_name": "Python 3"
  }
 },
 "nbformat": 4,
 "nbformat_minor": 2,
 "cells": [
  {
   "source": [
    "# 20201104 矩阵分解和贝叶斯模型\n",
    "\n",
    "**截止时间：2020 年 11 月 8 日中午 12:00**\n",
    "\n",
    "---\n",
    "\n",
    "注意事项：\n",
    "\n",
    "1. 请仔细阅读并理解 **SVD_Model.ipynb** 文件中的代码，然后完成以下问题。\n",
    "\n",
    "2. 如果调用其他库（除 numpy、pandas、scipy、sklearn 等常见库之外的），请在注释中标记。如果有创新思路也请在注释中说明。你的代码应当具有较高的可读性。\n",
    "\n",
    "3. 作业提交请命名为【姓名-学号.ipynb】\n"
   ],
   "cell_type": "markdown",
   "metadata": {}
  },
  {
   "source": [
    "## 问题一\n",
    "\n",
    "参考 SVD_Model.ipynb 文件中的代码，使用同样的方法预测**每种职业**的人对**每部电影**的评价。\n",
    "\n",
    "1.0 导入数据"
   ],
   "cell_type": "markdown",
   "metadata": {}
  },
  {
   "cell_type": "code",
   "execution_count": 1,
   "metadata": {},
   "outputs": [
    {
     "output_type": "execute_result",
     "data": {
      "text/plain": [
       "      user_id gender zipcode  age_desc                occ_desc\n",
       "0           1      F   48067  Under 18            K-12 student\n",
       "1           2      M   70072       56+           self-employed\n",
       "2           3      M   55117     25-34               scientist\n",
       "3           4      M   02460     45-49    executive/managerial\n",
       "4           5      M   55455     25-34                  writer\n",
       "...       ...    ...     ...       ...                     ...\n",
       "6035     6036      F   32603     25-34               scientist\n",
       "6036     6037      F   76006     45-49       academic/educator\n",
       "6037     6038      F   14706       56+       academic/educator\n",
       "6038     6039      F   01060     45-49  other or not specified\n",
       "6039     6040      M   11106     25-34      doctor/health care\n",
       "\n",
       "[6040 rows x 5 columns]"
      ],
      "text/html": "<div>\n<style scoped>\n    .dataframe tbody tr th:only-of-type {\n        vertical-align: middle;\n    }\n\n    .dataframe tbody tr th {\n        vertical-align: top;\n    }\n\n    .dataframe thead th {\n        text-align: right;\n    }\n</style>\n<table border=\"1\" class=\"dataframe\">\n  <thead>\n    <tr style=\"text-align: right;\">\n      <th></th>\n      <th>user_id</th>\n      <th>gender</th>\n      <th>zipcode</th>\n      <th>age_desc</th>\n      <th>occ_desc</th>\n    </tr>\n  </thead>\n  <tbody>\n    <tr>\n      <th>0</th>\n      <td>1</td>\n      <td>F</td>\n      <td>48067</td>\n      <td>Under 18</td>\n      <td>K-12 student</td>\n    </tr>\n    <tr>\n      <th>1</th>\n      <td>2</td>\n      <td>M</td>\n      <td>70072</td>\n      <td>56+</td>\n      <td>self-employed</td>\n    </tr>\n    <tr>\n      <th>2</th>\n      <td>3</td>\n      <td>M</td>\n      <td>55117</td>\n      <td>25-34</td>\n      <td>scientist</td>\n    </tr>\n    <tr>\n      <th>3</th>\n      <td>4</td>\n      <td>M</td>\n      <td>02460</td>\n      <td>45-49</td>\n      <td>executive/managerial</td>\n    </tr>\n    <tr>\n      <th>4</th>\n      <td>5</td>\n      <td>M</td>\n      <td>55455</td>\n      <td>25-34</td>\n      <td>writer</td>\n    </tr>\n    <tr>\n      <th>...</th>\n      <td>...</td>\n      <td>...</td>\n      <td>...</td>\n      <td>...</td>\n      <td>...</td>\n    </tr>\n    <tr>\n      <th>6035</th>\n      <td>6036</td>\n      <td>F</td>\n      <td>32603</td>\n      <td>25-34</td>\n      <td>scientist</td>\n    </tr>\n    <tr>\n      <th>6036</th>\n      <td>6037</td>\n      <td>F</td>\n      <td>76006</td>\n      <td>45-49</td>\n      <td>academic/educator</td>\n    </tr>\n    <tr>\n      <th>6037</th>\n      <td>6038</td>\n      <td>F</td>\n      <td>14706</td>\n      <td>56+</td>\n      <td>academic/educator</td>\n    </tr>\n    <tr>\n      <th>6038</th>\n      <td>6039</td>\n      <td>F</td>\n      <td>01060</td>\n      <td>45-49</td>\n      <td>other or not specified</td>\n    </tr>\n    <tr>\n      <th>6039</th>\n      <td>6040</td>\n      <td>M</td>\n      <td>11106</td>\n      <td>25-34</td>\n      <td>doctor/health care</td>\n    </tr>\n  </tbody>\n</table>\n<p>6040 rows × 5 columns</p>\n</div>"
     },
     "metadata": {},
     "execution_count": 1
    }
   ],
   "source": [
    "import numpy as np\n",
    "import pandas as pd\n",
    "import math\n",
    "\n",
    "ratings = pd.read_csv('ratings.csv', sep='\\t', encoding='latin-1', usecols=['user_id', 'movie_id', 'rating', 'timestamp'])\n",
    "users = pd.read_csv('users.csv', sep='\\t', encoding='latin-1', usecols=['user_id', 'gender', 'zipcode', 'age_desc', 'occ_desc'])\n",
    "movies = pd.read_csv('movies.csv', sep='\\t', encoding='latin-1', usecols=['movie_id', 'title', 'genres'])\n",
    "users\n",
    "# movies"
   ]
  },
  {
   "source": [
    "1.1 合并用户的职业。求每个职业对每一部电影评分的平均值。"
   ],
   "cell_type": "markdown",
   "metadata": {}
  },
  {
   "cell_type": "code",
   "execution_count": 2,
   "metadata": {},
   "outputs": [
    {
     "output_type": "execute_result",
     "data": {
      "text/plain": [
       "movie_id                    1         2         3         4         5     \\\n",
       "occ_desc                                                                   \n",
       "K-12 student            3.904255  3.322581  3.600000  3.000000  3.692308   \n",
       "academic/educator       4.229299  3.301887  2.675676  2.809524  3.230769   \n",
       "artist                  4.000000  2.970588  2.777778  2.500000  3.333333   \n",
       "clerical/admin          4.492537  3.285714  2.909091  3.333333  3.285714   \n",
       "college/grad student    4.040404  3.116505  3.060606  2.392857  2.860465   \n",
       "customer service        4.025641  3.400000  2.750000  2.200000  3.111111   \n",
       "doctor/health care      4.394737  3.107143  2.714286  3.125000  3.333333   \n",
       "executive/managerial    4.189055  3.115942  3.045455  2.944444  3.228571   \n",
       "farmer                  4.500000  2.666667  3.000000  0.000000  1.000000   \n",
       "homemaker               4.028571  3.500000  2.875000  0.000000  3.142857   \n",
       "lawyer                  4.142857  3.181818  2.727273  0.000000  2.000000   \n",
       "other or not specified  4.211111  3.163462  2.955224  2.964286  3.000000   \n",
       "programmer              4.271429  3.257143  3.200000  2.222222  2.437500   \n",
       "retired                 4.058824  2.500000  3.363636  3.000000  0.000000   \n",
       "sales/marketing         4.084112  3.333333  3.208333  2.833333  3.200000   \n",
       "scientist               4.072727  3.526316  2.888889  2.500000  2.000000   \n",
       "self-employed           4.168831  3.068966  3.083333  3.000000  2.692308   \n",
       "technician/engineer     4.160714  3.425926  3.342857  3.100000  3.181818   \n",
       "tradesman/craftsman     4.190476  3.214286  3.142857  3.000000  3.333333   \n",
       "unemployed              3.960000  3.100000  3.333333  2.500000  2.000000   \n",
       "writer                  4.046296  3.071429  2.789474  1.888889  2.466667   \n",
       "\n",
       "movie_id                    6         7         8         9         10    ...  \\\n",
       "occ_desc                                                                  ...   \n",
       "K-12 student            4.250000  3.500000  3.090909  2.600000  4.081081  ...   \n",
       "academic/educator       3.578947  3.342105  3.250000  1.666667  3.183333  ...   \n",
       "artist                  3.853659  3.208333  3.000000  4.000000  3.694444  ...   \n",
       "clerical/admin          3.625000  3.200000  3.000000  2.000000  3.608696  ...   \n",
       "college/grad student    4.034965  3.500000  2.562500  2.550000  3.633333  ...   \n",
       "customer service        3.909091  3.571429  0.000000  2.666667  3.300000  ...   \n",
       "doctor/health care      4.068966  3.214286  4.000000  2.400000  3.720000  ...   \n",
       "executive/managerial    3.923810  3.183673  2.500000  3.333333  3.597938  ...   \n",
       "farmer                  4.000000  3.000000  0.000000  3.000000  3.250000  ...   \n",
       "homemaker               4.500000  4.250000  3.666667  0.000000  3.100000  ...   \n",
       "lawyer                  3.619048  2.625000  3.000000  2.000000  3.444444  ...   \n",
       "other or not specified  3.885246  3.450000  3.083333  2.391304  3.467890  ...   \n",
       "programmer              3.907407  3.846154  4.000000  3.200000  3.470588  ...   \n",
       "retired                 3.777778  3.666667  3.000000  4.000000  3.000000  ...   \n",
       "sales/marketing         4.032258  3.393939  4.000000  2.000000  3.615385  ...   \n",
       "scientist               3.809524  3.857143  0.000000  4.000000  3.619048  ...   \n",
       "self-employed           4.000000  3.210526  4.000000  2.600000  3.463415  ...   \n",
       "technician/engineer     3.898734  3.714286  3.000000  3.000000  3.670732  ...   \n",
       "tradesman/craftsman     3.700000  3.500000  0.000000  0.000000  3.777778  ...   \n",
       "unemployed              4.000000  2.625000  0.000000  3.500000  2.777778  ...   \n",
       "writer                  3.368421  3.090909  2.600000  4.000000  3.222222  ...   \n",
       "\n",
       "movie_id                    3943  3944      3945      3946      3947  \\\n",
       "occ_desc                                                               \n",
       "K-12 student            3.750000  1.75  1.800000  2.250000  3.000000   \n",
       "academic/educator       3.111111  2.00  0.000000  2.000000  3.250000   \n",
       "artist                  3.400000  0.00  1.000000  3.000000  3.500000   \n",
       "clerical/admin          4.000000  0.00  1.000000  4.000000  5.000000   \n",
       "college/grad student    2.857143  1.00  2.066667  2.533333  3.666667   \n",
       "customer service        1.000000  0.00  0.000000  2.666667  2.000000   \n",
       "doctor/health care      4.333333  0.00  1.000000  2.666667  3.666667   \n",
       "executive/managerial    4.250000  0.00  1.000000  2.230769  3.818182   \n",
       "farmer                  0.000000  0.00  0.000000  1.000000  0.000000   \n",
       "homemaker               0.000000  0.00  0.000000  0.000000  3.500000   \n",
       "lawyer                  5.000000  0.00  1.000000  1.500000  3.000000   \n",
       "other or not specified  2.200000  5.00  1.250000  2.071429  3.600000   \n",
       "programmer              2.833333  0.00  1.000000  1.750000  3.750000   \n",
       "retired                 0.000000  0.00  0.000000  3.000000  2.666667   \n",
       "sales/marketing         3.000000  0.00  0.000000  2.500000  5.000000   \n",
       "scientist               4.000000  0.00  0.000000  0.000000  0.000000   \n",
       "self-employed           2.000000  0.00  1.000000  2.000000  2.500000   \n",
       "technician/engineer     3.666667  0.00  1.000000  2.857143  4.333333   \n",
       "tradesman/craftsman     2.333333  0.00  0.000000  2.333333  0.000000   \n",
       "unemployed              1.500000  0.00  0.000000  3.000000  2.000000   \n",
       "writer                  3.166667  2.00  0.000000  1.818182  2.666667   \n",
       "\n",
       "movie_id                    3948      3949      3950      3951      3952  \n",
       "occ_desc                                                                  \n",
       "K-12 student            4.214286  4.583333  4.000000  3.000000  3.933333  \n",
       "academic/educator       3.767857  4.173913  4.000000  3.666667  3.757576  \n",
       "artist                  3.368421  4.000000  3.333333  5.000000  3.434783  \n",
       "clerical/admin          4.346154  4.375000  3.500000  0.000000  3.333333  \n",
       "college/grad student    3.773723  4.306452  3.111111  4.600000  3.600000  \n",
       "customer service        4.111111  3.666667  0.000000  2.000000  3.333333  \n",
       "doctor/health care      3.633333  4.125000  3.000000  4.500000  4.105263  \n",
       "executive/managerial    3.570000  4.000000  3.750000  3.200000  3.877551  \n",
       "farmer                  4.500000  0.000000  0.000000  0.000000  0.000000  \n",
       "homemaker               3.461538  2.666667  0.000000  4.000000  4.000000  \n",
       "lawyer                  3.421053  4.200000  0.000000  4.000000  3.625000  \n",
       "other or not specified  3.649485  3.857143  3.400000  3.875000  3.750000  \n",
       "programmer              3.266667  4.166667  4.000000  5.000000  4.000000  \n",
       "retired                 4.125000  4.333333  4.000000  0.000000  4.800000  \n",
       "sales/marketing         3.594595  3.833333  4.250000  4.000000  3.722222  \n",
       "scientist               3.500000  4.000000  0.000000  0.000000  3.833333  \n",
       "self-employed           3.333333  4.571429  4.000000  4.333333  4.117647  \n",
       "technician/engineer     3.517241  4.200000  4.666667  5.000000  3.950000  \n",
       "tradesman/craftsman     3.500000  4.000000  0.000000  0.000000  3.800000  \n",
       "unemployed              3.437500  4.363636  0.000000  0.000000  3.000000  \n",
       "writer                  3.460317  3.956522  3.500000  3.400000  3.735294  \n",
       "\n",
       "[21 rows x 3706 columns]"
      ],
      "text/html": "<div>\n<style scoped>\n    .dataframe tbody tr th:only-of-type {\n        vertical-align: middle;\n    }\n\n    .dataframe tbody tr th {\n        vertical-align: top;\n    }\n\n    .dataframe thead th {\n        text-align: right;\n    }\n</style>\n<table border=\"1\" class=\"dataframe\">\n  <thead>\n    <tr style=\"text-align: right;\">\n      <th>movie_id</th>\n      <th>1</th>\n      <th>2</th>\n      <th>3</th>\n      <th>4</th>\n      <th>5</th>\n      <th>6</th>\n      <th>7</th>\n      <th>8</th>\n      <th>9</th>\n      <th>10</th>\n      <th>...</th>\n      <th>3943</th>\n      <th>3944</th>\n      <th>3945</th>\n      <th>3946</th>\n      <th>3947</th>\n      <th>3948</th>\n      <th>3949</th>\n      <th>3950</th>\n      <th>3951</th>\n      <th>3952</th>\n    </tr>\n    <tr>\n      <th>occ_desc</th>\n      <th></th>\n      <th></th>\n      <th></th>\n      <th></th>\n      <th></th>\n      <th></th>\n      <th></th>\n      <th></th>\n      <th></th>\n      <th></th>\n      <th></th>\n      <th></th>\n      <th></th>\n      <th></th>\n      <th></th>\n      <th></th>\n      <th></th>\n      <th></th>\n      <th></th>\n      <th></th>\n      <th></th>\n    </tr>\n  </thead>\n  <tbody>\n    <tr>\n      <th>K-12 student</th>\n      <td>3.904255</td>\n      <td>3.322581</td>\n      <td>3.600000</td>\n      <td>3.000000</td>\n      <td>3.692308</td>\n      <td>4.250000</td>\n      <td>3.500000</td>\n      <td>3.090909</td>\n      <td>2.600000</td>\n      <td>4.081081</td>\n      <td>...</td>\n      <td>3.750000</td>\n      <td>1.75</td>\n      <td>1.800000</td>\n      <td>2.250000</td>\n      <td>3.000000</td>\n      <td>4.214286</td>\n      <td>4.583333</td>\n      <td>4.000000</td>\n      <td>3.000000</td>\n      <td>3.933333</td>\n    </tr>\n    <tr>\n      <th>academic/educator</th>\n      <td>4.229299</td>\n      <td>3.301887</td>\n      <td>2.675676</td>\n      <td>2.809524</td>\n      <td>3.230769</td>\n      <td>3.578947</td>\n      <td>3.342105</td>\n      <td>3.250000</td>\n      <td>1.666667</td>\n      <td>3.183333</td>\n      <td>...</td>\n      <td>3.111111</td>\n      <td>2.00</td>\n      <td>0.000000</td>\n      <td>2.000000</td>\n      <td>3.250000</td>\n      <td>3.767857</td>\n      <td>4.173913</td>\n      <td>4.000000</td>\n      <td>3.666667</td>\n      <td>3.757576</td>\n    </tr>\n    <tr>\n      <th>artist</th>\n      <td>4.000000</td>\n      <td>2.970588</td>\n      <td>2.777778</td>\n      <td>2.500000</td>\n      <td>3.333333</td>\n      <td>3.853659</td>\n      <td>3.208333</td>\n      <td>3.000000</td>\n      <td>4.000000</td>\n      <td>3.694444</td>\n      <td>...</td>\n      <td>3.400000</td>\n      <td>0.00</td>\n      <td>1.000000</td>\n      <td>3.000000</td>\n      <td>3.500000</td>\n      <td>3.368421</td>\n      <td>4.000000</td>\n      <td>3.333333</td>\n      <td>5.000000</td>\n      <td>3.434783</td>\n    </tr>\n    <tr>\n      <th>clerical/admin</th>\n      <td>4.492537</td>\n      <td>3.285714</td>\n      <td>2.909091</td>\n      <td>3.333333</td>\n      <td>3.285714</td>\n      <td>3.625000</td>\n      <td>3.200000</td>\n      <td>3.000000</td>\n      <td>2.000000</td>\n      <td>3.608696</td>\n      <td>...</td>\n      <td>4.000000</td>\n      <td>0.00</td>\n      <td>1.000000</td>\n      <td>4.000000</td>\n      <td>5.000000</td>\n      <td>4.346154</td>\n      <td>4.375000</td>\n      <td>3.500000</td>\n      <td>0.000000</td>\n      <td>3.333333</td>\n    </tr>\n    <tr>\n      <th>college/grad student</th>\n      <td>4.040404</td>\n      <td>3.116505</td>\n      <td>3.060606</td>\n      <td>2.392857</td>\n      <td>2.860465</td>\n      <td>4.034965</td>\n      <td>3.500000</td>\n      <td>2.562500</td>\n      <td>2.550000</td>\n      <td>3.633333</td>\n      <td>...</td>\n      <td>2.857143</td>\n      <td>1.00</td>\n      <td>2.066667</td>\n      <td>2.533333</td>\n      <td>3.666667</td>\n      <td>3.773723</td>\n      <td>4.306452</td>\n      <td>3.111111</td>\n      <td>4.600000</td>\n      <td>3.600000</td>\n    </tr>\n    <tr>\n      <th>customer service</th>\n      <td>4.025641</td>\n      <td>3.400000</td>\n      <td>2.750000</td>\n      <td>2.200000</td>\n      <td>3.111111</td>\n      <td>3.909091</td>\n      <td>3.571429</td>\n      <td>0.000000</td>\n      <td>2.666667</td>\n      <td>3.300000</td>\n      <td>...</td>\n      <td>1.000000</td>\n      <td>0.00</td>\n      <td>0.000000</td>\n      <td>2.666667</td>\n      <td>2.000000</td>\n      <td>4.111111</td>\n      <td>3.666667</td>\n      <td>0.000000</td>\n      <td>2.000000</td>\n      <td>3.333333</td>\n    </tr>\n    <tr>\n      <th>doctor/health care</th>\n      <td>4.394737</td>\n      <td>3.107143</td>\n      <td>2.714286</td>\n      <td>3.125000</td>\n      <td>3.333333</td>\n      <td>4.068966</td>\n      <td>3.214286</td>\n      <td>4.000000</td>\n      <td>2.400000</td>\n      <td>3.720000</td>\n      <td>...</td>\n      <td>4.333333</td>\n      <td>0.00</td>\n      <td>1.000000</td>\n      <td>2.666667</td>\n      <td>3.666667</td>\n      <td>3.633333</td>\n      <td>4.125000</td>\n      <td>3.000000</td>\n      <td>4.500000</td>\n      <td>4.105263</td>\n    </tr>\n    <tr>\n      <th>executive/managerial</th>\n      <td>4.189055</td>\n      <td>3.115942</td>\n      <td>3.045455</td>\n      <td>2.944444</td>\n      <td>3.228571</td>\n      <td>3.923810</td>\n      <td>3.183673</td>\n      <td>2.500000</td>\n      <td>3.333333</td>\n      <td>3.597938</td>\n      <td>...</td>\n      <td>4.250000</td>\n      <td>0.00</td>\n      <td>1.000000</td>\n      <td>2.230769</td>\n      <td>3.818182</td>\n      <td>3.570000</td>\n      <td>4.000000</td>\n      <td>3.750000</td>\n      <td>3.200000</td>\n      <td>3.877551</td>\n    </tr>\n    <tr>\n      <th>farmer</th>\n      <td>4.500000</td>\n      <td>2.666667</td>\n      <td>3.000000</td>\n      <td>0.000000</td>\n      <td>1.000000</td>\n      <td>4.000000</td>\n      <td>3.000000</td>\n      <td>0.000000</td>\n      <td>3.000000</td>\n      <td>3.250000</td>\n      <td>...</td>\n      <td>0.000000</td>\n      <td>0.00</td>\n      <td>0.000000</td>\n      <td>1.000000</td>\n      <td>0.000000</td>\n      <td>4.500000</td>\n      <td>0.000000</td>\n      <td>0.000000</td>\n      <td>0.000000</td>\n      <td>0.000000</td>\n    </tr>\n    <tr>\n      <th>homemaker</th>\n      <td>4.028571</td>\n      <td>3.500000</td>\n      <td>2.875000</td>\n      <td>0.000000</td>\n      <td>3.142857</td>\n      <td>4.500000</td>\n      <td>4.250000</td>\n      <td>3.666667</td>\n      <td>0.000000</td>\n      <td>3.100000</td>\n      <td>...</td>\n      <td>0.000000</td>\n      <td>0.00</td>\n      <td>0.000000</td>\n      <td>0.000000</td>\n      <td>3.500000</td>\n      <td>3.461538</td>\n      <td>2.666667</td>\n      <td>0.000000</td>\n      <td>4.000000</td>\n      <td>4.000000</td>\n    </tr>\n    <tr>\n      <th>lawyer</th>\n      <td>4.142857</td>\n      <td>3.181818</td>\n      <td>2.727273</td>\n      <td>0.000000</td>\n      <td>2.000000</td>\n      <td>3.619048</td>\n      <td>2.625000</td>\n      <td>3.000000</td>\n      <td>2.000000</td>\n      <td>3.444444</td>\n      <td>...</td>\n      <td>5.000000</td>\n      <td>0.00</td>\n      <td>1.000000</td>\n      <td>1.500000</td>\n      <td>3.000000</td>\n      <td>3.421053</td>\n      <td>4.200000</td>\n      <td>0.000000</td>\n      <td>4.000000</td>\n      <td>3.625000</td>\n    </tr>\n    <tr>\n      <th>other or not specified</th>\n      <td>4.211111</td>\n      <td>3.163462</td>\n      <td>2.955224</td>\n      <td>2.964286</td>\n      <td>3.000000</td>\n      <td>3.885246</td>\n      <td>3.450000</td>\n      <td>3.083333</td>\n      <td>2.391304</td>\n      <td>3.467890</td>\n      <td>...</td>\n      <td>2.200000</td>\n      <td>5.00</td>\n      <td>1.250000</td>\n      <td>2.071429</td>\n      <td>3.600000</td>\n      <td>3.649485</td>\n      <td>3.857143</td>\n      <td>3.400000</td>\n      <td>3.875000</td>\n      <td>3.750000</td>\n    </tr>\n    <tr>\n      <th>programmer</th>\n      <td>4.271429</td>\n      <td>3.257143</td>\n      <td>3.200000</td>\n      <td>2.222222</td>\n      <td>2.437500</td>\n      <td>3.907407</td>\n      <td>3.846154</td>\n      <td>4.000000</td>\n      <td>3.200000</td>\n      <td>3.470588</td>\n      <td>...</td>\n      <td>2.833333</td>\n      <td>0.00</td>\n      <td>1.000000</td>\n      <td>1.750000</td>\n      <td>3.750000</td>\n      <td>3.266667</td>\n      <td>4.166667</td>\n      <td>4.000000</td>\n      <td>5.000000</td>\n      <td>4.000000</td>\n    </tr>\n    <tr>\n      <th>retired</th>\n      <td>4.058824</td>\n      <td>2.500000</td>\n      <td>3.363636</td>\n      <td>3.000000</td>\n      <td>0.000000</td>\n      <td>3.777778</td>\n      <td>3.666667</td>\n      <td>3.000000</td>\n      <td>4.000000</td>\n      <td>3.000000</td>\n      <td>...</td>\n      <td>0.000000</td>\n      <td>0.00</td>\n      <td>0.000000</td>\n      <td>3.000000</td>\n      <td>2.666667</td>\n      <td>4.125000</td>\n      <td>4.333333</td>\n      <td>4.000000</td>\n      <td>0.000000</td>\n      <td>4.800000</td>\n    </tr>\n    <tr>\n      <th>sales/marketing</th>\n      <td>4.084112</td>\n      <td>3.333333</td>\n      <td>3.208333</td>\n      <td>2.833333</td>\n      <td>3.200000</td>\n      <td>4.032258</td>\n      <td>3.393939</td>\n      <td>4.000000</td>\n      <td>2.000000</td>\n      <td>3.615385</td>\n      <td>...</td>\n      <td>3.000000</td>\n      <td>0.00</td>\n      <td>0.000000</td>\n      <td>2.500000</td>\n      <td>5.000000</td>\n      <td>3.594595</td>\n      <td>3.833333</td>\n      <td>4.250000</td>\n      <td>4.000000</td>\n      <td>3.722222</td>\n    </tr>\n    <tr>\n      <th>scientist</th>\n      <td>4.072727</td>\n      <td>3.526316</td>\n      <td>2.888889</td>\n      <td>2.500000</td>\n      <td>2.000000</td>\n      <td>3.809524</td>\n      <td>3.857143</td>\n      <td>0.000000</td>\n      <td>4.000000</td>\n      <td>3.619048</td>\n      <td>...</td>\n      <td>4.000000</td>\n      <td>0.00</td>\n      <td>0.000000</td>\n      <td>0.000000</td>\n      <td>0.000000</td>\n      <td>3.500000</td>\n      <td>4.000000</td>\n      <td>0.000000</td>\n      <td>0.000000</td>\n      <td>3.833333</td>\n    </tr>\n    <tr>\n      <th>self-employed</th>\n      <td>4.168831</td>\n      <td>3.068966</td>\n      <td>3.083333</td>\n      <td>3.000000</td>\n      <td>2.692308</td>\n      <td>4.000000</td>\n      <td>3.210526</td>\n      <td>4.000000</td>\n      <td>2.600000</td>\n      <td>3.463415</td>\n      <td>...</td>\n      <td>2.000000</td>\n      <td>0.00</td>\n      <td>1.000000</td>\n      <td>2.000000</td>\n      <td>2.500000</td>\n      <td>3.333333</td>\n      <td>4.571429</td>\n      <td>4.000000</td>\n      <td>4.333333</td>\n      <td>4.117647</td>\n    </tr>\n    <tr>\n      <th>technician/engineer</th>\n      <td>4.160714</td>\n      <td>3.425926</td>\n      <td>3.342857</td>\n      <td>3.100000</td>\n      <td>3.181818</td>\n      <td>3.898734</td>\n      <td>3.714286</td>\n      <td>3.000000</td>\n      <td>3.000000</td>\n      <td>3.670732</td>\n      <td>...</td>\n      <td>3.666667</td>\n      <td>0.00</td>\n      <td>1.000000</td>\n      <td>2.857143</td>\n      <td>4.333333</td>\n      <td>3.517241</td>\n      <td>4.200000</td>\n      <td>4.666667</td>\n      <td>5.000000</td>\n      <td>3.950000</td>\n    </tr>\n    <tr>\n      <th>tradesman/craftsman</th>\n      <td>4.190476</td>\n      <td>3.214286</td>\n      <td>3.142857</td>\n      <td>3.000000</td>\n      <td>3.333333</td>\n      <td>3.700000</td>\n      <td>3.500000</td>\n      <td>0.000000</td>\n      <td>0.000000</td>\n      <td>3.777778</td>\n      <td>...</td>\n      <td>2.333333</td>\n      <td>0.00</td>\n      <td>0.000000</td>\n      <td>2.333333</td>\n      <td>0.000000</td>\n      <td>3.500000</td>\n      <td>4.000000</td>\n      <td>0.000000</td>\n      <td>0.000000</td>\n      <td>3.800000</td>\n    </tr>\n    <tr>\n      <th>unemployed</th>\n      <td>3.960000</td>\n      <td>3.100000</td>\n      <td>3.333333</td>\n      <td>2.500000</td>\n      <td>2.000000</td>\n      <td>4.000000</td>\n      <td>2.625000</td>\n      <td>0.000000</td>\n      <td>3.500000</td>\n      <td>2.777778</td>\n      <td>...</td>\n      <td>1.500000</td>\n      <td>0.00</td>\n      <td>0.000000</td>\n      <td>3.000000</td>\n      <td>2.000000</td>\n      <td>3.437500</td>\n      <td>4.363636</td>\n      <td>0.000000</td>\n      <td>0.000000</td>\n      <td>3.000000</td>\n    </tr>\n    <tr>\n      <th>writer</th>\n      <td>4.046296</td>\n      <td>3.071429</td>\n      <td>2.789474</td>\n      <td>1.888889</td>\n      <td>2.466667</td>\n      <td>3.368421</td>\n      <td>3.090909</td>\n      <td>2.600000</td>\n      <td>4.000000</td>\n      <td>3.222222</td>\n      <td>...</td>\n      <td>3.166667</td>\n      <td>2.00</td>\n      <td>0.000000</td>\n      <td>1.818182</td>\n      <td>2.666667</td>\n      <td>3.460317</td>\n      <td>3.956522</td>\n      <td>3.500000</td>\n      <td>3.400000</td>\n      <td>3.735294</td>\n    </tr>\n  </tbody>\n</table>\n<p>21 rows × 3706 columns</p>\n</div>"
     },
     "metadata": {},
     "execution_count": 2
    }
   ],
   "source": [
    "ratingsTable=ratings.merge(users.loc[:,('user_id','occ_desc')],on='user_id').pivot_table(index='occ_desc',columns='movie_id',values='rating',aggfunc='mean').fillna(0)\n",
    "ratingsTable"
   ]
  },
  {
   "source": [
    "1.2 划分训练集和验证集。可以使用留出法，也可以使用交叉验证。"
   ],
   "cell_type": "markdown",
   "metadata": {}
  },
  {
   "cell_type": "code",
   "execution_count": 3,
   "metadata": {},
   "outputs": [],
   "source": [
    "ratingsSeq=np.array(ratingsTable).reshape(-1)\n",
    "row=ratingsTable.shape[0]\n",
    "col=ratingsTable.shape[1]\n",
    "# display(ratingsSeq!=0)\n",
    "seq=np.arange(row*col)[ratingsSeq!=0]\n",
    "# display(seq)\n",
    "total=seq.size\n",
    "np.random.shuffle(seq)\n",
    "K=10\n",
    "length=total//K"
   ]
  },
  {
   "source": [
    "1.3 训练模型和验证。在训练集上做 svd 分解，给出验证集上的预测。要求输出训练集和验证集上评分预测的 RMSE （方均根误差）"
   ],
   "cell_type": "markdown",
   "metadata": {}
  },
  {
   "cell_type": "code",
   "execution_count": 4,
   "metadata": {},
   "outputs": [
    {
     "output_type": "execute_result",
     "data": {
      "text/plain": [
       "1.3479145117487463"
      ]
     },
     "metadata": {},
     "execution_count": 4
    }
   ],
   "source": [
    "def calSvd(mat,N):\n",
    "    mean=mat.mean(axis=1,keepdims=True)\n",
    "    mat-=mean\n",
    "    u,s,v=np.linalg.svd(mat)\n",
    "    return (u[:,:N]@np.diag(s[:N])@v[:N])+mean\n",
    "sumErr=0\n",
    "for i in range(K):\n",
    "    newMat=ratingsSeq.copy()\n",
    "    testNum=seq[i*length:(i+1)*length]\n",
    "    newMat[testNum]=0\n",
    "    newMat=calSvd(newMat.reshape(row,col),3).reshape(-1)\n",
    "    testSeq=newMat[testNum]\n",
    "    ansSeq=ratingsSeq[testNum]\n",
    "    sumErr+=(((ansSeq-testSeq)**2).mean())**0.5/K\n",
    "sumErr"
   ]
  },
  {
   "source": [
    "## 问题二\n",
    "\n",
    "使用 naïve 贝叶斯分类器，根据用户的**观影兴趣**预测用户的**职业**。\n",
    "\n",
    "2.1 划分训练集和验证集\n"
   ],
   "cell_type": "markdown",
   "metadata": {}
  },
  {
   "cell_type": "code",
   "execution_count": 5,
   "metadata": {
    "tags": []
   },
   "outputs": [],
   "source": [
    "dictMovie={}\n",
    "numTypes=0\n",
    "for s in movies.genres:\n",
    "    listWord=s.split('|')\n",
    "    for word in listWord:\n",
    "        if not word in dictMovie:\n",
    "            dictMovie[word]=numTypes\n",
    "            numTypes+=1\n",
    "featureMovies=np.zeros((movies.movie_id.max()+1,numTypes))\n",
    "for i,s in zip(movies.movie_id,movies.genres):\n",
    "    listWord=s.split('|')\n",
    "    for word in listWord:\n",
    "        featureMovies[i][dictMovie[word]]=1\n",
    "dictOccu={}\n",
    "numOccu=0\n",
    "numUsers=users.shape[0]\n",
    "for s in users.occ_desc:\n",
    "    if not s in dictOccu:\n",
    "        dictOccu[s]=numOccu\n",
    "        numOccu+=1\n",
    "occuUsers=np.zeros(numUsers,dtype='int64')\n",
    "for i,s in zip(users.user_id,users.occ_desc):\n",
    "    occuUsers[i-1]=dictOccu[s]\n",
    "featureUsers=np.zeros((numUsers,numTypes))\n",
    "for user,movie,rate in zip(ratings.user_id,ratings.movie_id,ratings.rating):\n",
    "    featureUsers[user-1]+=rate/5*featureMovies[movie]\n",
    "K=10\n",
    "seq=np.arange(numUsers)\n",
    "np.random.shuffle(seq)\n",
    "length=numUsers//K\n"
   ]
  },
  {
   "source": [
    "2.2 训练模型和验证。在训练集上训练 naïve 贝叶斯分类器，给出在验证集上的预测。要求输出训练集和验证集上的准确率和 F-score。"
   ],
   "cell_type": "markdown",
   "metadata": {}
  },
  {
   "cell_type": "code",
   "execution_count": 6,
   "metadata": {},
   "outputs": [
    {
     "output_type": "stream",
     "name": "stdout",
     "text": [
      "Accuracy:0.105960 F-score(macro):0.071050\nAccuracy:0.094371 F-score(macro):0.068933\nAccuracy:0.094371 F-score(macro):0.082845\nAccuracy:0.097682 F-score(macro):0.060382\nAccuracy:0.097682 F-score(macro):0.065735\nAccuracy:0.110927 F-score(macro):0.068566\nAccuracy:0.094371 F-score(macro):0.061803\nAccuracy:0.114238 F-score(macro):0.063973\nAccuracy:0.099338 F-score(macro):0.062939\nAccuracy:0.084437 F-score(macro):0.061069\nAverage: Accuracy:0.099338 F-score(macro):0.066729\n"
     ]
    }
   ],
   "source": [
    "from sklearn.metrics import f1_score\n",
    "def train(feature,occu):\n",
    "    probOccu=np.bincount(occu).astype('float64').reshape(-1,1)\n",
    "    probOccu+=0.2\n",
    "    probOccu/=probOccu.sum()\n",
    "    probFeature=np.zeros((numOccu,numTypes))\n",
    "    for i,arr in enumerate(feature):\n",
    "        probFeature[occu[i]]+=arr\n",
    "    probFeature+=0.2\n",
    "    probFeature/=probFeature.sum(axis=1,keepdims=True)\n",
    "    return np.log(probFeature),np.log(probOccu)\n",
    "def predict(arr,feature,occu):\n",
    "    prob=(arr*feature).sum(axis=1,keepdims=True)+occu\n",
    "    return prob.argmax()\n",
    "def evaluate(result,answer):\n",
    "    a=(result==answer).sum()/result.size\n",
    "    f=f1_score(answer,result,average='macro')\n",
    "    return a,f\n",
    "sumA,sumF=0,0\n",
    "for i in range(K):\n",
    "    testSeq=seq[i*length:(i+1)*length]\n",
    "    trainSeq=np.append(seq[:i*length],seq[(i+1)*length:])\n",
    "    probFeature,probOccu=train(featureUsers[trainSeq],occuUsers[trainSeq])\n",
    "    result=np.zeros(testSeq.size,dtype='int64')\n",
    "    for i,s in enumerate(testSeq):\n",
    "        result[i]=predict(featureUsers[s],probFeature,probOccu)\n",
    "    a,f=evaluate(result,occuUsers[testSeq])\n",
    "    print('Accuracy:%f F-score(macro):%f'%(a,f))\n",
    "    sumA+=a/K\n",
    "    sumF+=f/K\n",
    "print('Average: Accuracy:%f F-score(macro):%f'%(sumA,sumF))"
   ]
  },
  {
   "cell_type": "code",
   "execution_count": null,
   "metadata": {},
   "outputs": [],
   "source": []
  }
 ]
}
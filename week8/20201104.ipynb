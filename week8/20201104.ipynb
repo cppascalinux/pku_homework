{
 "metadata": {
  "language_info": {
   "codemirror_mode": {
    "name": "ipython",
    "version": 3
   },
   "file_extension": ".py",
   "mimetype": "text/x-python",
   "name": "python",
   "nbconvert_exporter": "python",
   "pygments_lexer": "ipython3",
   "version": 3
  },
  "orig_nbformat": 2
 },
 "nbformat": 4,
 "nbformat_minor": 2,
 "cells": [
  {
   "source": [
    "# 20201104 矩阵分解和贝叶斯模型\n",
    "\n",
    "**截止时间：2020 年 11 月 8 日中午 12:00**\n",
    "\n",
    "---\n",
    "\n",
    "注意事项：\n",
    "\n",
    "1. 请仔细阅读并理解 **SVD_Model.ipynb** 文件中的代码，然后完成以下问题。\n",
    "\n",
    "2. 如果调用其他库（除 numpy、pandas、scipy、sklearn 等常见库之外的），请在注释中标记。如果有创新思路也请在注释中说明。你的代码应当具有较高的可读性。\n",
    "\n",
    "3. 作业提交请命名为【姓名-学号.ipynb】\n"
   ],
   "cell_type": "markdown",
   "metadata": {}
  },
  {
   "source": [
    "## 问题一\n",
    "\n",
    "参考 SVD_Model.ipynb 文件中的代码，使用同样的方法预测**每种职业**的人对**每部电影**的评价。\n",
    "\n",
    "1.0 导入数据"
   ],
   "cell_type": "markdown",
   "metadata": {}
  },
  {
   "cell_type": "code",
   "execution_count": null,
   "metadata": {},
   "outputs": [],
   "source": [
    "import numpy as np\n",
    "import pandas as pd\n",
    "\n",
    "\n",
    "ratings = pd.read_csv('ratings.csv', sep='\\t', encoding='latin-1', usecols=['user_id', 'movie_id', 'rating', 'timestamp'])\n",
    "users = pd.read_csv('users.csv', sep='\\t', encoding='latin-1', usecols=['user_id', 'gender', 'zipcode', 'age_desc', 'occ_desc'])\n",
    "movies = pd.read_csv('movies.csv', sep='\\t', encoding='latin-1', usecols=['movie_id', 'title', 'genres'])"
   ]
  },
  {
   "source": [
    "1.1 合并用户的职业。求每个职业对每一部电影评分的平均值。"
   ],
   "cell_type": "markdown",
   "metadata": {}
  },
  {
   "cell_type": "code",
   "execution_count": null,
   "metadata": {},
   "outputs": [],
   "source": []
  },
  {
   "source": [
    "1.2 划分训练集和验证集。可以使用留出法，也可以使用交叉验证。"
   ],
   "cell_type": "markdown",
   "metadata": {}
  },
  {
   "cell_type": "code",
   "execution_count": null,
   "metadata": {},
   "outputs": [],
   "source": []
  },
  {
   "source": [
    "1.3 训练模型和验证。在训练集上做 svd 分解，给出验证集上的预测。要求输出训练集和验证集上评分预测的 RMSE （方均根误差）"
   ],
   "cell_type": "markdown",
   "metadata": {}
  },
  {
   "cell_type": "code",
   "execution_count": null,
   "metadata": {},
   "outputs": [],
   "source": []
  },
  {
   "source": [
    "## 问题二\n",
    "\n",
    "使用 naïve 贝叶斯分类器，根据用户的**观影兴趣**预测用户的**职业**。\n",
    "\n",
    "2.1 划分训练集和验证集\n"
   ],
   "cell_type": "markdown",
   "metadata": {}
  },
  {
   "cell_type": "code",
   "execution_count": null,
   "metadata": {},
   "outputs": [],
   "source": []
  },
  {
   "source": [
    "2.2 训练模型和验证。在训练集上训练 naïve 贝叶斯分类器，给出在验证集上的预测。要求输出训练集和验证集上的准确率和 F-score。"
   ],
   "cell_type": "markdown",
   "metadata": {}
  }
 ]
}
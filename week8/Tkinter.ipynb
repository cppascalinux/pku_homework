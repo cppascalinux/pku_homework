{
 "cells": [
  {
   "cell_type": "markdown",
   "metadata": {},
   "source": [
    "# 第一部分：Tkinter 简介\n",
    "\n",
    "## python 常用的 GUI 包\n",
    "\n",
    "### 1.Tkinter\n",
    "\n",
    "Tkinter 模块（接口）是 Python 的标准 Tk GUI 工具包的接口，速度较快，操作比较简单，可以在大多数的 unix 平台下使用\n",
    "\n",
    "### 2.PyQt\n",
    "\n",
    "PyQt 实现了流行的 Qt 库，它开辟了在 Python 中开发应用程序的可能行。Qt 的类库大约有 300 多个，函数大约在 5700 多个，功能强大，适合大型应用，由它自带的 Qt designer 可以轻松构建界面元素。\n",
    "\n",
    "### 3.wxPython\n",
    "\n",
    "wxPython 带来了 wxWidgets 跨平台 GUI 库，相比于 Tkinter 是一种更加现代化的库。\n",
    "\n",
    "# Tkinter Doc\n",
    "\n",
    "[Python Tkinter Resources](https://wiki.python.org/moin/TkInter)\n",
    "\n",
    "[TkDocs](http://www.tkdocs.com/)\n",
    "\n",
    "[Python Module](https://docs.python.org/3/library/tkinter.html)\n"
   ]
  },
  {
   "cell_type": "markdown",
   "metadata": {},
   "source": [
    "# Helloworld\n",
    "\n",
    "## 1.空窗口\n"
   ]
  },
  {
   "cell_type": "code",
   "execution_count": null,
   "metadata": {
    "collapsed": true
   },
   "outputs": [],
   "source": [
    "# 导入模块\n",
    "# import tkinter\n",
    "# import tkinter as tk  # 这种方法也比较常见\n",
    "\n",
    "from tkinter import *\n",
    "top = Tk()\n",
    "top.mainloop() # 进入消息循环"
   ]
  },
  {
   "cell_type": "markdown",
   "metadata": {},
   "source": [
    "## 变量\n",
    "\n",
    "---\n",
    "\n",
    "- 可以用于控制一下部件的状态以及传递一些相关的信息\n",
    "- x = StringVar() # 保存一个 string 类型变量, 默认值为\"\"\n",
    "- x = IntVar() # 保存一个整型变量, 默认值为 0\n",
    "- x = DoubleVar() # 保存一个浮点型变量, 默认值为 0.0\n",
    "- x = BooleanVar() # 保存一个布尔型变量, 返回值为 0 (代表 False) 或 1 (代表 True)\n",
    "\n",
    "## Basic Widgets\n",
    "\n",
    "---\n",
    "\n",
    "窗口，可以设置一下相关的参数，比如颜色位置以及动作（比如鼠标点击等）\n"
   ]
  },
  {
   "cell_type": "markdown",
   "metadata": {},
   "source": [
    "### 1.Frame\n",
    "\n",
    "一般作为其他 widgets 的容器，长方形，一般使用几何布局\n",
    "\n",
    "### 2.Label\n",
    "\n",
    "可以现实图片文字等\n",
    "\n",
    "#### 一个 Frame 和 Label 结合的例子\n"
   ]
  },
  {
   "cell_type": "code",
   "execution_count": null,
   "metadata": {},
   "outputs": [],
   "source": [
    "from tkinter import *\n",
    "top = Tk()\n",
    "\n",
    "# 定义一个`label`显示`on the mainwindow`\n",
    "Label(top, text='on the window').pack()\n",
    "\n",
    "# 在`top`上创建一个`frame`\n",
    "frm = Frame(top)\n",
    "frm.pack()\n",
    "\n",
    "# 在刚刚创建的`frame`上创建两个`frame`，我们可以把它理解成一个大容器里套了一个小容器，即`frm`上有两个`frame` ，`frm_l`和`frm_r`\n",
    "frm_l = Frame(frm)\n",
    "frm_r = Frame(frm)\n",
    "\n",
    "# 这里是控制小的`frm`部件在大的`frm`的相对位置，此处`frm_l`就是在`frm`的左边，`frm_r`在`frm`的右边\n",
    "frm_l.pack(side='left')\n",
    "frm_r.pack(side='right')\n",
    "\n",
    "# 这里的三个label就是在我们创建的frame上定义的label部件，还是以容器理解，就是容器上贴了标签，来指明这个是什么，解释这个容器。\n",
    "Label(frm_l, text='on the frm_l1',\n",
    "      bg='green').pack()  ##这个`label`长在`frm_l`上，显示为`on the frm_l1`\n",
    "Label(frm_l, text='on the frm_l2',\n",
    "      bg='red').pack()  ##这个`label`长在`frm_l`上，显示为`on the frm_l2`\n",
    "Label(frm_r, text='on the frm_r1',\n",
    "      bg='yellow').pack()  ##这个`label`长在`frm_r`上，显示为`on the frm_r1`\n",
    "\n",
    "top.mainloop()"
   ]
  },
  {
   "cell_type": "markdown",
   "metadata": {},
   "source": [
    "### 3.Entry 控件（输入框）\n",
    "\n",
    "---\n",
    "\n",
    "entry 是 Tkinter 用来接收字符串等输入的控件. 该控件允许用户输入一行文字. 如果用户输入的文字长度长于 Entry 控件的宽度时, 文字会向后滚动. 这种情况下所输入的字符串无法全部显示. 点击箭头符号可以将不可见的文字部分移入可见区域. 如果你想要输入多行文本, 就需要使用 Text 控件. Entry 控件只能使用预设字体.\n"
   ]
  },
  {
   "cell_type": "code",
   "execution_count": null,
   "metadata": {},
   "outputs": [],
   "source": [
    "from tkinter import *\n",
    "\n",
    "\n",
    "def show_entry_fields():\n",
    "    print(\"First Name: %s\\nLast Name: %s\" % (e1.get(), e2.get()))\n",
    "\n",
    "\n",
    "master = Tk()\n",
    "Label(master, text=\"First Name\").grid(row=0)\n",
    "Label(master, text=\"Last Name\").grid(row=1)\n",
    "\n",
    "e1 = Entry(master)\n",
    "e2 = Entry(master)\n",
    "\n",
    "e1.grid(row=0, column=1)\n",
    "e2.grid(row=1, column=1)\n",
    "\n",
    "Button(master, text='Show', command=show_entry_fields).grid(row=3,\n",
    "                                                            column=1,\n",
    "                                                            sticky=W,\n",
    "                                                            pady=4)\n",
    "\n",
    "mainloop()"
   ]
  },
  {
   "cell_type": "markdown",
   "metadata": {},
   "source": [
    "### Button 控件\n",
    "\n",
    "---\n",
    "\n",
    "Button 控件是一种标准 Tkinter 控件, 用来展现不同样式的按钮. Button 控件被用以和用户交互, 比如按钮被鼠标点击后, 某种操作被启动. 和 Label 控件类似, 按钮可以展示图片或者文字. 不同的是, Label 控件可以指定字体, Button 控件只能使用单一的字体. Button 上的文字可以多行显示.\n"
   ]
  },
  {
   "cell_type": "code",
   "execution_count": null,
   "metadata": {
    "collapsed": true
   },
   "outputs": [],
   "source": [
    "import tkinter as tk\n",
    "\n",
    "counter = 0\n",
    "\n",
    "\n",
    "def counter_label(label):\n",
    "    counter = 0\n",
    "\n",
    "    def count():\n",
    "        global counter\n",
    "        counter += 1\n",
    "        label.config(text=str(counter))\n",
    "        # after method, delay the time to call back the function\n",
    "        label.after(1, count)\n",
    "\n",
    "    count()\n",
    "\n",
    "\n",
    "root = tk.Tk()\n",
    "root.title(\"Counting Seconds\")\n",
    "label = tk.Label(root, fg=\"dark green\")\n",
    "label.pack()\n",
    "counter_label(label)\n",
    "button = tk.Button(root, text='Stop', width=25, command=root.destroy)\n",
    "button.pack()\n",
    "root.mainloop()"
   ]
  },
  {
   "cell_type": "markdown",
   "metadata": {},
   "source": [
    "### radiobutton & checkbutton\n",
    "\n",
    "---\n",
    "\n",
    "- 单选按钮是一种可在多个预先定义的选项中选择出一项的 Tkinter 控件. 单选按钮可显示文字或图片. 显示文字时只能使用预设字体. 该控件可以绑定一个 Python 函数或方法, 当单选按钮被选择时, 该函数或方法将被调用. 一组单选按钮控件和同一个变量关联. 点击其中一个单选按钮将把这个变量设为某个预定义的值.\n",
    "- Checkbutton 控件允许用户在多个选项中选择多项. Radiobutton 则只允许用户选择一项. 通常, Checkbutton 会显示为一个空白的方框 (表示 false, 未被选中), 或者方框中有一个对号或 X 号 (表示 true, 被选中). 一个对该选项的简短描述会和选择框一同显示. checkbox 的状态会因点击而改变, 这个点击可能来自鼠标, 也可能来自键盘热键, 比如空格键通常被设置为 checkbutton 的选择键. 一个 checkbutton 有两种状态: **开**或者**关**. Tkinter 中的 checkbutton 可以包含文字, 可多行显示, 但只能使用预设字体; 也可以包含图片. 可以绑定一个 Python 函数或方法. 当 checkbox 被点击时, 该函数或方法会被调用.\n"
   ]
  },
  {
   "cell_type": "code",
   "execution_count": null,
   "metadata": {},
   "outputs": [],
   "source": [
    "from tkinter import *\n",
    "master = Tk()\n",
    "\n",
    "\n",
    "def var_states():\n",
    "    print(\"male: %d,\\nfemale: %d\" % (var1.get(), var2.get()))\n",
    "\n",
    "\n",
    "Label(master, text=\"Your sex:\").grid(row=0, sticky=W)\n",
    "var1 = IntVar()\n",
    "Checkbutton(master, text=\"male\", variable=var1).grid(row=1, sticky=W)\n",
    "var2 = IntVar()\n",
    "Checkbutton(master, text=\"female\", variable=var2).grid(row=2, sticky=W)\n",
    "Button(master, text='Show', command=var_states).grid(row=4, sticky=W, pady=4)\n",
    "mainloop()"
   ]
  },
  {
   "cell_type": "markdown",
   "metadata": {},
   "source": [
    "## Message 控件\n",
    "\n",
    "---\n",
    "\n",
    "Message 控件用来展示一些文字短消息. Message 和 Label 控件有些类似, 但在展示文字方面比 Label 要灵活, 比如 Message 控件可以改变字体, 而 Label 控件只能使用一种字体. 它提供了一个换行对象, 以使文字可以断为多行. 它可以支持文字的自动换行及对齐. 这里要澄清一下前面提到的 Message 控件可以改变字体的说法: 这是说我们可以为单个控件设置任意字体, 控件内的文字都将显示为该字体. 但我们不能给单个控件内的文字设置多种字体. 如果你需要这么做, 可以考虑使用 Text 控件.\n"
   ]
  },
  {
   "cell_type": "code",
   "execution_count": null,
   "metadata": {
    "collapsed": true
   },
   "outputs": [],
   "source": [
    "from tkinter import *\n",
    "master = Tk()\n",
    "whatever_you_do = \"Whatever you do will be insignificant, but it is very important that you do it.\\n(Mahatma Gandhi)\"\n",
    "msg = Message(master, text=whatever_you_do)\n",
    "msg.config(bg='lightgreen', font=('times', 24, 'italic'))\n",
    "msg.pack()\n",
    "mainloop()"
   ]
  },
  {
   "cell_type": "markdown",
   "metadata": {},
   "source": [
    "还有一些控件，例如：\n",
    "\n",
    "- scale 控件，一定范围内的调整控件\n",
    "\n",
    "- menu 控件，类似于菜单栏\n",
    "\n",
    "- text 控件，多行文本输入或显示\n"
   ]
  },
  {
   "cell_type": "markdown",
   "metadata": {},
   "source": [
    "## 布局（如何放置各个部件）\n",
    "\n",
    "---\n",
    "\n",
    "### Grid 布局\n",
    "\n",
    "类似于把整个窗口划分成格子，根据 row, column 控制部件的位置，每个格子的大小由所放入的部件决定\n",
    "一个 Frame 只能用一种布局，不可以 pack 和 grid 混用\n",
    "grid(row, column, rowspan, sticky........)参数可以设置\n",
    "sticky 默认的空间会在网格中居中显示。你可以使用 sticky 选项去指定对齐方式，可以选择的值有：N/S/E/W，分别代表上/下/右/左。如果你想让 label 靠左显示，你可以设置 stricky 的值为 W。\n"
   ]
  },
  {
   "cell_type": "code",
   "execution_count": null,
   "metadata": {
    "collapsed": true
   },
   "outputs": [],
   "source": [
    "from tkinter import *\n",
    "\n",
    "master = Tk()\n",
    "Label(master, text=\"First\").grid(row=0, sticky=E)\n",
    "Label(master, text=\"Second\").grid(row=1)\n",
    "Label(master, text=\"Third\").grid(row=2, sticky=W)\n",
    "\n",
    "e1 = Entry(master)\n",
    "e2 = Entry(master)\n",
    "e3 = Entry(master)\n",
    "\n",
    "e1.grid(row=0, column=1)\n",
    "e2.grid(row=1, column=1)\n",
    "e3.grid(row=2, column=1)\n",
    "mainloop()"
   ]
  },
  {
   "cell_type": "markdown",
   "metadata": {},
   "source": [
    "### Pack 布局\n",
    "\n",
    "---\n",
    "\n",
    "指定相对位置，剩下精确的位置会由 pack 系统自动完成. 这也使得 pack 布局没有另外两种布局方式灵活. 所以 pack 是简单应用的首选布局, 比如只是想要将控件水平或垂直的逐个放在一起:\n"
   ]
  },
  {
   "cell_type": "code",
   "execution_count": null,
   "metadata": {
    "collapsed": true
   },
   "outputs": [],
   "source": [
    "from tkinter import *  #注意模块导入方式，否则代码会有差别\n",
    "\n",
    "\n",
    "class App:\n",
    "    def __init__(self, master):\n",
    "        #使用Frame增加一层容器\n",
    "        fm = Frame(master)\n",
    "        #Button是一种按钮组件，与Label类似，只是多出了响应点击的功能\n",
    "        Button(fm, text='Top').pack(side=TOP, anchor=W, fill=X)\n",
    "        Button(fm, text='Center').pack(side=TOP, anchor=W, fill=X)\n",
    "        Button(fm, text='Bottom').pack(side=TOP, anchor=W, fill=X, expand=YES)\n",
    "        fm.pack(side=LEFT, fill=BOTH, expand=YES)\n",
    "\n",
    "        fm2 = Frame(master, bg='red')\n",
    "        Button(fm2, text='Left').pack(side=LEFT)\n",
    "        Button(fm2, text='This is the Center button').pack(side=LEFT)\n",
    "        #         Button(fm2, text='This is the Center button').pack(side=LEFT, fill = Y)\n",
    "        Button(fm2, text='Right').pack(side=LEFT)\n",
    "        fm2.pack(side=LEFT, padx=10, fill=Y)\n",
    "\n",
    "\n",
    "root = Tk()\n",
    "root.title(\"Pack - Example\")\n",
    "display = App(root)\n",
    "root.mainloop()"
   ]
  },
  {
   "cell_type": "markdown",
   "metadata": {},
   "source": [
    "### Place 布局\n",
    "\n",
    "---\n",
    "\n",
    "Place 布局管理可以显式的指定控件的绝对位置或相对于其他控件的位置. 要使用 Place 布局, 调用相应控件的 place() 方法就可以了. 所有 tkinter 的标准控件都可以调用 place()\n"
   ]
  },
  {
   "cell_type": "code",
   "execution_count": null,
   "metadata": {
    "collapsed": true
   },
   "outputs": [],
   "source": [
    "import tkinter as tk\n",
    "import random\n",
    "\n",
    "root = tk.Tk()\n",
    "# width x height + x_offset + y_offset:\n",
    "root.geometry(\"170x200+30+30\")\n",
    "\n",
    "languages = ['Python', 'Perl', 'C++', 'Java', 'Tcl/Tk']\n",
    "labels = range(5)\n",
    "for i in range(5):\n",
    "    ct = [random.randrange(256) for x in range(3)]\n",
    "    brightness = int(round(0.299 * ct[0] + 0.587 * ct[1] + 0.114 * ct[2]))\n",
    "    ct_hex = \"%02x%02x%02x\" % tuple(ct)\n",
    "    bg_colour = '#' + \"\".join(ct_hex)\n",
    "    l = tk.Label(root,\n",
    "                 text=languages[i],\n",
    "                 fg='White' if brightness < 120 else 'Black',\n",
    "                 bg=bg_colour)\n",
    "    l.place(x=20, y=30 + i * 30, width=120, height=25)\n",
    "\n",
    "root.mainloop()"
   ]
  },
  {
   "cell_type": "markdown",
   "metadata": {},
   "source": [
    "## Event 绑定机制\n",
    "\n",
    "---\n",
    "\n",
    "一个 Tkinter 应用生命周期中的大部分时间都处在一个消息循环 (event loop) 中. 它等待事件的发生: 事件可能是 按键按下, 鼠标点击, 鼠标移动 等.\n",
    "Tkinter 提供了用以处理相关事件的机制. 处理函数可以被绑定给各个控件的各种事件.\n",
    "widget.bind(event, handler)\n",
    "如果相关事件发生, handler 函数会被触发, 事件对象 event 会传递给 handler 函数.\n",
    "点击/移动/按钮释放.....\n"
   ]
  },
  {
   "cell_type": "code",
   "execution_count": null,
   "metadata": {},
   "outputs": [],
   "source": [
    "def quit(event):\n",
    "    print(\"Double Click, so let's stop\")\n",
    "    exit\n",
    "\n",
    "\n",
    "widget = Button(None, text='Mouse Clicks')\n",
    "widget.pack()\n",
    "widget.bind('<Double-1>', quit)\n",
    "widget.mainloop()"
   ]
  },
  {
   "cell_type": "code",
   "execution_count": null,
   "metadata": {},
   "outputs": [],
   "source": [
    "from tkinter import *\n",
    "\n",
    "\n",
    "def motion(event):\n",
    "    print(\"Mouse position: (%s %s)\" % (event.x, event.y))\n",
    "    return\n",
    "\n",
    "\n",
    "master = Tk()\n",
    "whatever_you_do = \"Whatever you do will be insignificant, but it is very important that you do it.\\n(Mahatma Gandhi)\"\n",
    "msg = Message(master, text=whatever_you_do)\n",
    "msg.config(bg='lightgreen', font=('times', 24, 'italic'))\n",
    "msg.bind('<Motion>', motion)\n",
    "msg.pack()\n",
    "mainloop()"
   ]
  }
 ],
 "metadata": {
  "kernelspec": {
   "display_name": "Python 3",
   "language": "python",
   "name": "python3"
  },
  "language_info": {
   "codemirror_mode": {
    "name": "ipython",
    "version": 3
   },
   "file_extension": ".py",
   "mimetype": "text/x-python",
   "name": "python",
   "nbconvert_exporter": "python",
   "pygments_lexer": "ipython3",
   "version": "3.8.3-final"
  }
 },
 "nbformat": 4,
 "nbformat_minor": 2
}
{
 "cells": [
  {
   "cell_type": "markdown",
   "metadata": {},
   "source": [
    "# 计算概论实验班 期中作业（单人版本）\n",
    "\n",
    "**<font color=\"red\">截止时间：2020 年 11 月 28 日 23:59</font>**\n",
    "\n",
    "**作业讲评：2020 年 12 月 3 日课堂时间**\n",
    "\n",
    "---\n",
    "\n",
    "注意事项：\n",
    "\n",
    "1. 期中作业分为【单人版本】和【组队版本】，二者择一完成。单人版本要求个人独立完成；组队版本要求两人共同完成。**<font color=\"red\">本文件为单人版本</font>**。\n",
    "\n",
    "2. 关于题目：本作业共包含六个模块，**按时**完成**所有基础要求**并提交可以获得基准分数。在基础要求之上有亮点的，可以获得加分；没有按时提交的作业会酌情评分。本作业要求较为详细，请务必仔细审题！\n",
    "\n",
    "3. 关于代码：**<font color=\"red\">请提交 Python 文件（\".py\"）</font>**，文件名中需注明第几模块。数据处理模块也可以同时提交 notebook 文件供批改参考，要求在代码块下方展示结果；界面实现部分必须提交 Python 文件；允许调用扩展库，但要求在注释和报告中说明；建议使用 Python 风格的代码，代码中应当包含必要注释，使其具有较高可读性。\n",
    "\n",
    "4. 关于报告：报告建议包含以下内容，格式不限，充实的报告意味着较高的评价。**<font color=\"red\">没有提交报告</font>** 视为 **<font color=\"red\">没有提交作业</font>**！\n",
    "\n",
    "   - 问题描述\n",
    "   - 初始数据资源，数据加工、提取的结果，结果分析\n",
    "   - 翻译模块数据环境、数据结构描述、核心算法思路、结果分析与优化（这里可以写自己的探索历程、工作内容、创新思考、心得体会、遇到的困难与解决方法等等）\n",
    "   - 界面实现具体样例及分析\n",
    "   - 总结（可以写问题进一步的思考）\n",
    "\n",
    "5. 关于提交：\n",
    "\n",
    "   - 完成题目中给出请一定提交【代码压缩文件+报告.pdf】，即提交为【<font color=\"red\">两个文件</font>】。\n",
    "   - 代码压缩文件中应该包含的内容：\n",
    "     - 各模块代码文件\n",
    "     - 模块一的问答数据和层次化编码词典\n",
    "     - 模块二的双语词典\n",
    "   - 文件请命名为 \"姓名-学号.zip/.pdf/...\"；如果自认为某个模块的实现有亮点，可以在文件命名中注明，例如模块一和模块二有亮点可将提交文件命名为 \"姓名-学号-1-2.zip/.pdf/...\"；文件名中至多注明两个亮点模块，其余可在报告中说明。\n",
    "\n",
    "**本次作业量较大，请尽早开始准备。**\n"
   ]
  },
  {
   "cell_type": "markdown",
   "metadata": {},
   "source": [
    "## 模块一：数据预处理\n",
    "\n",
    "**要求掌握的基础内容：文件操作，文本预处理，正则表达式**\n",
    "\n",
    "---\n",
    "\n",
    "本模块实现对 Python 中英文文档预处理，处理结果将应用于模块二至模块五。具体要求如下：\n",
    "\n",
    "1. 使用正则表达式针对 Python 3.9.0 中英文文档中的每个目录作层次化编码。层次化编码的要求与正则表达式作业相同，具体内容见附录；\n",
    "\n",
    "2. 使用正则表达式对中英文文档做句子对齐，构建双语平行语料。\n",
    "\n",
    "    - 要求做句子层面的对齐，即按句号（\"。\"和\".\"）划分对应的文本\n",
    "    - 注意可能存在的干扰模式，例如\"1.1.1\"\"os.path\"\"e.g.\"\"\"等\n",
    "    - 对于中文文档中没有翻译（和英文文档相同）的部分，可以不作为平行语料\n",
    "    - 部分难以处理的语料例如英语从句、表格、文档本身的错误等可以不做对齐"
   ]
  },
  {
   "cell_type": "code",
   "execution_count": 7,
   "metadata": {
    "tags": []
   },
   "outputs": [],
   "source": [
    "import part1,part2,part3,part4,part5,part6,os\n",
    "class Dataset():\n",
    "    def __init__(self, *args, **kwargs):\n",
    "        # 数据集初始化\n",
    "        self.list_pair,self.en_all,self.en_que,self.en_ans,self.zh_que,self.zh_ans=part1.main()\n",
    "\n",
    "    def hierarchyEncoding(self, *args, **kwargs):\n",
    "        # 文档层次化编码\n",
    "        # 已经在init里做完了\n",
    "        pass\n",
    "    def sentenceAlignment(self, *args, **kwargs):\n",
    "        # 句子语料对齐\n",
    "        # 已经在init里做完了\n",
    "        pass\n"
   ]
  },
  {
   "cell_type": "markdown",
   "metadata": {},
   "source": [
    "## 模块二：双语词典生成\n",
    "\n",
    "**要求掌握的基础内容：高质量短语挖掘，IBM 词对齐模型**\n",
    "\n",
    "---\n",
    "\n",
    "本模块实现对模块一中提取的平行语料做中文分词和词典生成。具体要求如下：\n",
    "\n",
    "1. 使用 [Mining Quality Phrases from Massive Text Corpora](https://www.bilibili.com/video/av76580039/) 中的方法实现中文语料分词；\n",
    "\n",
    "2. 根据分词后的中文-英文平行语料，提取双语词典。可以理解 giza++ 原理（IBM Model 1-5），并借助 GIZA++ 工具包生成双语词典；也可以自己建立手工实现双语词典的提取。参考链接如下：\n",
    "   - [GIZA++工具的使用介绍](https://www.cnblogs.com/hit-joseph/p/8086413.html)\n",
    "   - [GIZA++解析](https://wenku.baidu.com/view/13bbecede009581b6ad9eb01.html)\n",
    "   - [Github:moses-smt/giza-pp](https://github.com/moses-smt/giza-pp.git)\n",
    "   - [GIZA++: Training of statistical translation models](http://www.fjoch.com/GIZA++.html)\n",
    "   - [A Systematic Comparison of Various Statistical Alignment Models](https://www.aclweb.org/anthology/J03-1002.pdf)\n"
   ]
  },
  {
   "cell_type": "code",
   "execution_count": 8,
   "metadata": {},
   "outputs": [],
   "source": [
    "class Dataset():\n",
    "    # 接上一部分的 Dataset\n",
    "    def segChinese(self, *args, **kwargs):\n",
    "        # 中文语料分词\n",
    "        os.system('cd segphrase;python main.py')\n",
    "\n",
    "    def buildDictionary(self, *args, **kwargs):\n",
    "        # 构建双语词典\n",
    "        part2.main1(self.list_pair)\n",
    "        part2.gizapp()\n",
    "        self.dic=part2.main2()"
   ]
  },
  {
   "cell_type": "markdown",
   "metadata": {},
   "source": [
    "## 模块三：计算词转移概率矩阵\n",
    "\n",
    "**要求掌握的基础内容：马尔可夫模型**\n",
    "\n",
    "---\n",
    "\n",
    "本模块基于英文语料的词语共现信息，统计词的转移概率矩阵。具体要求如下：\n",
    "\n",
    "1. 参考 HMM 模型中状态转移矩阵，统计一阶向前（右）转移概率矩阵；\n",
    "\n",
    "2. 需要包括句子前的BOS和句子尾的EOS特殊词汇进行统计（保证马尔科夫链有正反向的初始状态）；\n",
    "\n",
    "3. 注意可能存在缺失词的问题，需要对概率转移矩阵做适当平滑。\n"
   ]
  },
  {
   "cell_type": "code",
   "execution_count": 9,
   "metadata": {},
   "outputs": [],
   "source": [
    "class Dataset():\n",
    "    # 接上一部分的 Dataset\n",
    "    def computeTransitionMatrix(self, *args, **kwargs):\n",
    "        # 计算转移概率矩阵\n",
    "        self.mat=part3.main(self.en_all)"
   ]
  },
  {
   "cell_type": "markdown",
   "metadata": {},
   "source": [
    "## 模块四：机器翻译\n",
    "\n",
    "**要求掌握的基础内容：模块二、模块三综合**\n",
    "\n",
    "---\n",
    "\n",
    "本模块综合模块二、三实现中文文本到英文文本的翻译。具体要求如下：\n",
    "\n",
    "1. 根据源端词袋和双语词表生成候选词袋；\n",
    "\n",
    "2. 借助候选词袋和双语词典，生成目标端候选词袋（选择概率最大的 token 即可）；\n",
    "\n",
    "3. 根据模块三的向前转移概率矩阵，生成目标端的最优排列序列作为生成结果。\n"
   ]
  },
  {
   "cell_type": "code",
   "execution_count": 10,
   "metadata": {},
   "outputs": [],
   "source": [
    "class Dataset():\n",
    "    # 接上一部分的 Dataset\n",
    "    def translation(self, *args, **kwargs):\n",
    "        # 汉英翻译\n",
    "        return part4.main(args[0],self.dic,self.mat)"
   ]
  },
  {
   "cell_type": "markdown",
   "metadata": {},
   "source": [
    "## 模块五：双语检索\n",
    "\n",
    "**要求掌握的基础内容：模块一至模块四综合**\n",
    "\n",
    "---\n",
    "\n",
    "本模块综合上述模块实现双语关键词的匹配检索。具体要求如下：\n",
    "\n",
    "1. 检索内容若为英文文本，需要使用正则表达式查询层次化编码结果中匹配的【题目】或【回答】。输入内容可以包含关键词和通配符\"?\"\"\\*\"。\n",
    "\n",
    "2. 检索内容如果为中文文本，要求先翻译成英文文本，然后同时使用正则表达式查询中文和英文的层次化编码结果中匹配的【题目】或【回答】。输入内容中不包含通配符。\n"
   ]
  },
  {
   "cell_type": "code",
   "execution_count": 11,
   "metadata": {},
   "outputs": [],
   "source": [
    "class Dataset():\n",
    "    # 接上一部分的 Dataset\n",
    "    def query(self, *args, **kwargs):\n",
    "        # 文档内容检索\n",
    "        return part5.main(args[0],self.dic,self.mat,self.en_que,self.en_ans,self.zh_que,self.zh_ans,args[1])"
   ]
  },
  {
   "cell_type": "markdown",
   "metadata": {},
   "source": [
    "## 模块六：界面设计\n",
    "\n",
    "**要求掌握的基础内容：UI 设计**\n",
    "\n",
    "---\n",
    "\n",
    "本模块针对模块五关键词检索实现用户界面。具体要求如下：\n",
    "\n",
    "1. 显示检索框，输入关键词查询内容；\n",
    "\n",
    "2. 实现滚动或者上下翻按钮查看不同页面的检索结果；\n",
    "\n",
    "3. 点击查看检索结果的具体内容。\n"
   ]
  },
  {
   "cell_type": "code",
   "execution_count": 12,
   "metadata": {},
   "outputs": [
    {
     "output_type": "error",
     "ename": "AttributeError",
     "evalue": "'Dataset' object has no attribute 'segChinese'",
     "traceback": [
      "\u001b[0;31m---------------------------------------------------------------------------\u001b[0m",
      "\u001b[0;31mAttributeError\u001b[0m                            Traceback (most recent call last)",
      "\u001b[0;32m<ipython-input-12-a319742f25f0>\u001b[0m in \u001b[0;36m<module>\u001b[0;34m\u001b[0m\n\u001b[1;32m      4\u001b[0m         \u001b[0msuper\u001b[0m\u001b[0;34m(\u001b[0m\u001b[0;34m)\u001b[0m\u001b[0;34m.\u001b[0m\u001b[0minit\u001b[0m\u001b[0;34m(\u001b[0m\u001b[0mdt\u001b[0m\u001b[0;34m.\u001b[0m\u001b[0mdic\u001b[0m\u001b[0;34m,\u001b[0m\u001b[0mdt\u001b[0m\u001b[0;34m.\u001b[0m\u001b[0mmat\u001b[0m\u001b[0;34m,\u001b[0m\u001b[0mdt\u001b[0m\u001b[0;34m.\u001b[0m\u001b[0men_que\u001b[0m\u001b[0;34m,\u001b[0m\u001b[0mdt\u001b[0m\u001b[0;34m.\u001b[0m\u001b[0men_ans\u001b[0m\u001b[0;34m,\u001b[0m\u001b[0mdt\u001b[0m\u001b[0;34m.\u001b[0m\u001b[0mzh_que\u001b[0m\u001b[0;34m,\u001b[0m\u001b[0mdt\u001b[0m\u001b[0;34m.\u001b[0m\u001b[0mzh_ans\u001b[0m\u001b[0;34m)\u001b[0m\u001b[0;34m\u001b[0m\u001b[0;34m\u001b[0m\u001b[0m\n\u001b[1;32m      5\u001b[0m \u001b[0mdt\u001b[0m\u001b[0;34m=\u001b[0m\u001b[0mDataset\u001b[0m\u001b[0;34m(\u001b[0m\u001b[0;34m)\u001b[0m\u001b[0;34m\u001b[0m\u001b[0;34m\u001b[0m\u001b[0m\n\u001b[0;32m----> 6\u001b[0;31m \u001b[0mdt\u001b[0m\u001b[0;34m.\u001b[0m\u001b[0msegChinese\u001b[0m\u001b[0;34m(\u001b[0m\u001b[0;34m)\u001b[0m\u001b[0;34m\u001b[0m\u001b[0;34m\u001b[0m\u001b[0m\n\u001b[0m\u001b[1;32m      7\u001b[0m \u001b[0mdt\u001b[0m\u001b[0;34m.\u001b[0m\u001b[0mbuildDictionary\u001b[0m\u001b[0;34m(\u001b[0m\u001b[0;34m)\u001b[0m\u001b[0;34m\u001b[0m\u001b[0;34m\u001b[0m\u001b[0m\n\u001b[1;32m      8\u001b[0m \u001b[0mdt\u001b[0m\u001b[0;34m.\u001b[0m\u001b[0mcomputeTransitionMatrix\u001b[0m\u001b[0;34m(\u001b[0m\u001b[0;34m)\u001b[0m\u001b[0;34m\u001b[0m\u001b[0;34m\u001b[0m\u001b[0m\n",
      "\u001b[0;31mAttributeError\u001b[0m: 'Dataset' object has no attribute 'segChinese'"
     ]
    }
   ],
   "source": [
    "\n",
    "# 交互界面\n",
    "class InteractGUI(part6.InteractGUI):\n",
    "    def __init__(self,dt):\n",
    "        super().init(dt.dic,dt.mat,dt.en_que,dt.en_ans,dt.zh_que,dt.zh_ans)\n",
    "dt=Dataset()\n",
    "dt.segChinese()\n",
    "dt.buildDictionary()\n",
    "dt.computeTransitionMatrix()\n",
    "win=InteractGUI()\n",
    "win.start()\n"
   ]
  },
  {
   "cell_type": "markdown",
   "metadata": {},
   "source": [
    "## 附录\n",
    "\n",
    "### 附 1：层次化编码具体要求\n",
    "\n",
    "1. 例如，\"Python 常见问题\" 编码为 001，\"一般信息\" 编码为 001，\"什么是 Python？\" 编码为 001，则完整的层次化问题标签为\n",
    "\n",
    "   **{Q001001001Zh:\"Python 常见问题==>一般信息==>什么是 Python？\"}**\n",
    "\n",
    "   其中 Q 表示问题，Zh 表示中文文档。英文文档编码要求末尾用 En 表示，其他和中文文档相同，例如该问题的英文编码为\n",
    "\n",
    "   **{Q001001001En:\"General Python FAQ==>General Information==>What is Python?\"}**\n",
    "\n",
    "   每个问题下的正文内容作为该问题的回答，和问题采用相同的编码，开头使用字母 A 表示。例如：\n",
    "\n",
    "   **{A001001001Zh:\"Python 是一种解释型、交互式、面向对象的编程语言……\"}**\n",
    "\n",
    "   英文回答同理：\n",
    "\n",
    "   **{A001001001En:\"Python is an interpreted, interactive, object-oriented programming language……\"}**\n",
    "\n",
    "   要求提交编码结果的文本文件，txt/csv/json 等格式均可。\n",
    "\n",
    "2. 使用 json 格式表示每个对应层级的编码。通过对应编码，可以将一个问题路径对应到问题编码，也可以由问题编码构造问题路径。参考格式如下：\n",
    "\n",
    "   ```python\n",
    "    [ ### 这里多了一层，因为需要用到不同的文件夹\n",
    "       {\n",
    "           \"title\": \"faq\",  # faq 文件夹\n",
    "           \"zh-title\": \"Python 常见问题\",  # 中文标签\n",
    "           \"level\": 1,  # 层级，假设根目录是 0 级，那么 faq 是第 1 级文件夹\n",
    "           \"content\": [\n",
    "               {\n",
    "                   \"code\": \"001\",\n",
    "                   \"title\": \"General Python FAQ\",  # general.txt 文件\n",
    "                   \"zh-title\": \"Python常见问题\",\n",
    "                   \"level\": 2,  # general.txt 是第 2 级文件，以下层级类推\n",
    "                   \"content\": [\n",
    "                       {\n",
    "                           \"code\": \"001\",\n",
    "                           \"title\": \"General Information\",\n",
    "                           \"zh-title\": \"一般信息\",\n",
    "                           \"level\": 3,\n",
    "                           \"content\": [\n",
    "                               {\n",
    "                                   \"code\": \"001\",\n",
    "                                   \"title\": \"What is Python?\",\n",
    "                                   \"zh-title\": \"什么是 Python？\",\n",
    "                                   \"level\": 4,\n",
    "                                   \"content\": [],\n",
    "                               },...\n",
    "                           ]\n",
    "                       },...\n",
    "                   ]\n",
    "               },...\n",
    "           ]\n",
    "       },...\n",
    "    ]\n",
    "   ```\n",
    "\n",
    "   要求提交层级编码的 json 文件。\n",
    "\n",
    "3. 注意：\n",
    "\n",
    "   - 目录深度不同，编码长度可能不等长；\n",
    "   - 必须保证每个问题编码唯一；\n",
    "   - 中文文档目录为中文，文件名为英文，对应关系不明确，建议先参考英文文档建立文件和目录对应关系；**由于本次作业文件数量较多，也可以不参考目录文件，直接按读取的顺序编码**。\n",
    "   - 本次作业提交的 txt/csv/json 文件较大，**请不要再打包原始数据**\n"
   ]
  }
 ],
 "metadata": {
  "kernelspec": {
   "display_name": "Python 3",
   "language": "python",
   "name": "python3"
  },
  "language_info": {
   "codemirror_mode": {
    "name": "ipython",
    "version": 3
   },
   "file_extension": ".py",
   "mimetype": "text/x-python",
   "name": "python",
   "nbconvert_exporter": "python",
   "pygments_lexer": "ipython3",
   "version": "3.8.3-final"
  }
 },
 "nbformat": 4,
 "nbformat_minor": 2
}
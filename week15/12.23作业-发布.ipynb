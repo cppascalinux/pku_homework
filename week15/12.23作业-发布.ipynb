{
 "cells": [
  {
   "cell_type": "markdown",
   "metadata": {},
   "source": [
    "# 12.23 课后作业： 股票时间序列分析\n",
    "------\n",
    "\n",
    "本次作业使用 LSTM 模型对单只股票和多支股票每日收盘价格序列进行分析和预测。\n",
    "\n",
    "参考资料：\n",
    "- https://arxiv.org/pdf/1703.04691v5.pdf\n",
    "- https://arxiv.org/pdf/1805.11317.pdf"
   ]
  },
  {
   "cell_type": "code",
   "execution_count": null,
   "metadata": {},
   "outputs": [],
   "source": [
    "# 导入常用包\n",
    "import numpy as np\n",
    "import pandas as pd\n",
    "import torch\n",
    "import torch.nn as nn\n",
    "\n",
    "import os\n",
    "import time\n",
    "import random\n",
    "from tqdm import tqdm_notebook\n",
    "import matplotlib.pyplot as plt"
   ]
  },
  {
   "cell_type": "code",
   "execution_count": null,
   "metadata": {},
   "outputs": [],
   "source": [
    "# 指定随机种子\n",
    "seed = 0\n",
    "\n",
    "random.seed(seed)  # Python random module.\n",
    "np.random.seed(seed)  # Numpy module.\n",
    "\n",
    "torch.manual_seed(seed)\n",
    "torch.cuda.manual_seed(seed)\n",
    "torch.cuda.manual_seed_all(seed)  \n",
    "torch.backends.cudnn.benchmark = False\n",
    "torch.backends.cudnn.deterministic = True"
   ]
  },
  {
   "cell_type": "markdown",
   "metadata": {},
   "source": [
    "## 1. 单支股票预测\n",
    "\n",
    "该部分使用简单的单层 LSTM 模型来预测 Google 公司2016年初至2017年末的股价变化。\n",
    "\n",
    "### 1.1 导入文件\n",
    "\n",
    "读取股价的数据，并画出股价的图像"
   ]
  },
  {
   "cell_type": "code",
   "execution_count": null,
   "metadata": {},
   "outputs": [],
   "source": [
    "def loadOneFile(file_path):\n",
    "    data = pd.read_csv(file_path)\n",
    "    name = data[\"Name\"][0]\n",
    "    data = data[[\"Date\", \"Close\"]]\n",
    "    data.rename(columns={\"Close\":name}, inplace=True)\n",
    "    return data\n",
    "\n",
    "file_path = \"time-series-data/GOOGL_2006-01-01_to_2018-01-01.csv\"\n",
    "data = loadOneFile(file_path)\n",
    "data"
   ]
  },
  {
   "cell_type": "code",
   "execution_count": null,
   "metadata": {},
   "outputs": [],
   "source": [
    "# DataFrame 可视化\n",
    "def plotDf(df):\n",
    "    df.plot()\n",
    "    plt.legend(loc=\"upper left\", ncol=3)\n",
    "    plt.show()\n",
    "\n",
    "data.drop(columns=\"Date\", inplace=True)\n",
    "plotDf(data)"
   ]
  },
  {
   "cell_type": "markdown",
   "metadata": {},
   "source": [
    "### 1.2 构造 Pytorch 迭代对象\n",
    "\n",
    "上次作业中，我们直接使用股票价格作为输入数据。但是由于不同公司的股价差别很大，这样的模型不具有泛化能力。在本次作业中，我们使用【日收益率】作为输入的特征。第 t 个 timestep 的日收益率定义为\n",
    "\n",
    "$$\n",
    "R_t = \\frac{p_{t+1} - p_t}{p_t}\n",
    "$$\n",
    "\n",
    "可以忽略日期不连续的问题，把股价视为一个时间序列。具体要求\n",
    "\n",
    "- 继承 torch.utils.data.Dataset 定义一个可以随机访问和迭代的对象。利用此对象构造训练集、验证集和测试集。\n",
    "\n",
    "- 构造`Pytorch`中标准的`DataLoader`类。"
   ]
  },
  {
   "cell_type": "code",
   "execution_count": null,
   "metadata": {},
   "outputs": [],
   "source": [
    "n_stocks = 1  # 股票数量\n",
    "K = 25        # 窗口长度"
   ]
  },
  {
   "cell_type": "code",
   "execution_count": null,
   "metadata": {},
   "outputs": [],
   "source": [
    "class StockDataset(torch.utils.data.Dataset):\n",
    "    def __init__(self, data, K):\n",
    "        self.data = data[1:] / data[:-1] - 1\n",
    "        self.K = K\n",
    "\n",
    "    def __len__(self):\n",
    "        return len(self.data) - self.K\n",
    "\n",
    "    def __getitem__(self, idx):\n",
    "        # return the `idx` - th object (x, y) in the dataset\n",
    "        return (self.data[idx : idx + K], \n",
    "                self.data[idx + K].unsqueeze(0))\n",
    "\n",
    "\n",
    "def splitData(data, K):\n",
    "    data = torch.Tensor(data.to_numpy())\n",
    "    train_data = StockDataset(data[:-500], K)\n",
    "    test_data = StockDataset(data[-500:], K)\n",
    "\n",
    "    train_size = int(0.8 * len(train_data))\n",
    "    valid_size = len(train_data) - train_size\n",
    "    train_data, valid_data = torch.utils.data.random_split(train_data, [train_size, valid_size])\n",
    "\n",
    "    train_iter = torch.utils.data.DataLoader(train_data, shuffle=True, batch_size=64)\n",
    "    valid_iter = torch.utils.data.DataLoader(valid_data, batch_size=64)\n",
    "    test_iter = torch.utils.data.DataLoader(test_data, batch_size=64)\n",
    "    return train_iter, valid_iter, test_iter\n",
    "\n",
    "train_iter, valid_iter, test_iter = splitData(data, K)"
   ]
  },
  {
   "cell_type": "markdown",
   "metadata": {},
   "source": [
    "### 1.3 定义模型、损失函数和优化器\n",
    "\n",
    "使用 LSTM 模型预测股价。由于 LSTM 是一个 seq2seq 的模型，而股票价格预测只需要输出一个值，因此我们只采用 LSTM 的最后一个 cell 的输出。 "
   ]
  },
  {
   "cell_type": "code",
   "execution_count": null,
   "metadata": {},
   "outputs": [],
   "source": [
    "device = \"cuda\" if torch.cuda.is_available() else \"cpu\"\n",
    "\n",
    "hidden_size = 16\n",
    "num_layers = 1"
   ]
  },
  {
   "cell_type": "code",
   "execution_count": null,
   "metadata": {},
   "outputs": [],
   "source": [
    "class MyModel(nn.Module):\n",
    "    def __init__(self, input_size, hidden, num_layers):\n",
    "        super(MyModel, self).__init__()\n",
    "        ### TODO：实现 LSTM 模型\n",
    "\n",
    "\n",
    "\n",
    "        ### TODO：实现全连接作为后处理\n",
    "\n",
    "\n",
    "\n",
    "    def forward(self, X):\n",
    "        ### TODO：实现 forward 部分的计算\n",
    "\n",
    "\n",
    "\n",
    "\n",
    "net = MyModel(n_stocks, hidden_size, num_layers)\n",
    "net = net.to(device)\n",
    "print(net)"
   ]
  },
  {
   "cell_type": "markdown",
   "metadata": {},
   "source": [
    "关于损失函数，这里我们使用【平均绝对百分比误差（MAPE）】损失函数。该函数的定义如下：\n",
    "\n",
    "$$\n",
    "    MAPELoss(pred, label) = \\frac{1}{n}\\sum_{i}\\frac{|pred_i - label_i|}{label_i}\n",
    "$$\n",
    "\n",
    "该函数和 MSELoss 的区别主要是：\n",
    "\n",
    "1. 使用绝对值而不是平方；\n",
    "\n",
    "2. 使用百分比衡量误差，loss=0%为完美模型，loss>100%表示劣质模型。\n",
    "\n",
    "MAPE 可以减少不同量级的数据导致的模型误差。股价波动高的公司占据了绝大部分的 MSE，而 MAPE 可以避免这个问题。除此之外，MAPE 还可以直观地给出模型的评价。"
   ]
  },
  {
   "cell_type": "code",
   "execution_count": null,
   "metadata": {},
   "outputs": [],
   "source": [
    "def MAPELoss(preds, labels):\n",
    "    ### TODO：实现 MAPELoss\n",
    "\n",
    "\n",
    "\n",
    "loss_fn = MAPELoss\n",
    "optimizer = torch.optim.Adam(net.parameters(), lr=1e-3, weight_decay=1e-4)"
   ]
  },
  {
   "cell_type": "markdown",
   "metadata": {},
   "source": [
    "### 1.4 模型训练和测试\n",
    "\n",
    "训练模型。`evaluate_model`用于评估模型`net`在`data_iter`上的表现，给出平均损失；`train`会在`train_iter`上训练模型`net`，优化器选择`optimizer`，并用`valid_iter`进行验证及early stop。\n",
    "\n",
    "**请你完善以下代码。**代码仅供参考，觉得不方便的地方，可以直接修改。"
   ]
  },
  {
   "cell_type": "code",
   "execution_count": null,
   "metadata": {},
   "outputs": [],
   "source": [
    "from utils import EarlyStop\n",
    "\n",
    "def evaluate_model(data_iter, net, loss_fn, device=device):\n",
    "    ###TODO：实现 evaluate\n",
    "\n",
    "\n",
    "def train(net, train_iter, valid_iter, loss_fn, optimizer, max_epochs=100, early_stop=None, device=device):\n",
    "    ### TODO：实现 train\n"
   ]
  },
  {
   "cell_type": "code",
   "execution_count": null,
   "metadata": {
    "tags": []
   },
   "outputs": [],
   "source": [
    "train(net, train_iter, valid_iter, loss_fn, \n",
    "      optimizer, max_epochs=300, early_stop=EarlyStop(patience=10))"
   ]
  },
  {
   "cell_type": "code",
   "execution_count": null,
   "metadata": {},
   "outputs": [],
   "source": [
    "print(f\"test loss: {evaluate_model(test_iter, net, loss_fn)}\")"
   ]
  },
  {
   "cell_type": "markdown",
   "metadata": {},
   "source": [
    "思考：如果把LSTM的模型中【只用最后一个 cell】改为【使用全部 cell】，应当怎样处理？模型的效果如何？"
   ]
  },
  {
   "cell_type": "markdown",
   "metadata": {},
   "source": [
    "## 2. 多支股票预测\n",
    "\n",
    "根据市场有效性理论，股票价格是随机游走（Maurice Kendall 1953），通过股价的**自相关性**预测股价几乎是不可能的。但是，股价可能和**其他时间序列**具有相关性。我们可以利用其他时间序列辅助预测。\n",
    "\n",
    "本作业中我们使用 31 支股票组成一组向量，重复上述实验。\n",
    "\n",
    "### 2.1 导入文件\n",
    "\n",
    "注意不同文件中包含的数据条数不同，需要按日期合并。"
   ]
  },
  {
   "cell_type": "code",
   "execution_count": null,
   "metadata": {},
   "outputs": [],
   "source": [
    "def loadFiles(dir_path):\n",
    "    data = []\n",
    "    for i, file in enumerate(os.listdir(dir_path)):\n",
    "        data.append(loadOneFile(os.path.join(dir_path, file)))\n",
    "    \n",
    "    ### TODO：按【日期（\"Date\"）】合并不同公司股价的 DataFrame\n",
    "\n",
    "\n",
    "    return data\n",
    "\n",
    "df = loadFiles(\"time-series-data/\")\n",
    "df.head()"
   ]
  },
  {
   "cell_type": "code",
   "execution_count": null,
   "metadata": {},
   "outputs": [],
   "source": [
    "# DataFrame可视化\n",
    "df.drop(columns=\"Date\", inplace=True)\n",
    "plotDf(df)"
   ]
  },
  {
   "cell_type": "markdown",
   "metadata": {},
   "source": [
    "### 2.2 构造 Pytorch 迭代对象"
   ]
  },
  {
   "cell_type": "code",
   "execution_count": null,
   "metadata": {},
   "outputs": [],
   "source": [
    "n_stocks = len(df.columns)  # 股票数量\n",
    "K = 25                      # 窗口长度"
   ]
  },
  {
   "cell_type": "code",
   "execution_count": null,
   "metadata": {},
   "outputs": [],
   "source": [
    "train_iter, valid_iter, test_iter = splitData(df, K)"
   ]
  },
  {
   "cell_type": "markdown",
   "metadata": {},
   "source": [
    "### 2.3 定义模型、损失函数和优化器"
   ]
  },
  {
   "cell_type": "code",
   "execution_count": null,
   "metadata": {},
   "outputs": [],
   "source": [
    "net = MyModel(n_stocks, hidden_size, num_layers)\n",
    "net = net.to(device)\n",
    "print(net)"
   ]
  },
  {
   "cell_type": "code",
   "execution_count": null,
   "metadata": {},
   "outputs": [],
   "source": [
    "loss_fn = MAPELoss\n",
    "optimizer = torch.optim.Adam(net.parameters(), lr=1e-3, weight_decay=1e-4)"
   ]
  },
  {
   "cell_type": "markdown",
   "metadata": {},
   "source": [
    "### 2.4 模型训练和测试"
   ]
  },
  {
   "cell_type": "code",
   "execution_count": null,
   "metadata": {
    "tags": []
   },
   "outputs": [],
   "source": [
    "train(net, train_iter, valid_iter, loss_fn, \n",
    "      optimizer, max_epochs=300, early_stop=EarlyStop(patience=10))"
   ]
  },
  {
   "cell_type": "code",
   "execution_count": null,
   "metadata": {},
   "outputs": [],
   "source": [
    "print(\"test loss: \", evaluate_model(test_iter, net, loss_fn))"
   ]
  },
  {
   "cell_type": "markdown",
   "metadata": {},
   "source": [
    "思考：\n",
    "- 如果使用股价，而不是日收益率，结果会怎样？使用日收益率还有必要做 normalize 吗？\n",
    "- 如果使用MSE，而不是MAPE，结果会怎样？\n",
    "- 如果日收益率定义为\n",
    "\n",
    "  $$\n",
    "  R_t = \\frac{p_{t+1}}{p_t}\n",
    "  $$\n",
    "\n",
    "  你有哪些发现？"
   ]
  }
 ],
 "metadata": {
  "kernelspec": {
   "display_name": "Python 3",
   "language": "python",
   "name": "python3"
  },
  "language_info": {
   "codemirror_mode": {
    "name": "ipython",
    "version": 3
   },
   "file_extension": ".py",
   "mimetype": "text/x-python",
   "name": "python",
   "nbconvert_exporter": "python",
   "pygments_lexer": "ipython3",
   "version": "3.8.3"
  }
 },
 "nbformat": 4,
 "nbformat_minor": 2
}
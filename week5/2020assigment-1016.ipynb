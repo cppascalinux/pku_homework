{
 "cells": [
  {
   "cell_type": "markdown",
   "metadata": {},
   "source": [
    "## Homework_2020_10_16\n",
    "\n",
    "### 第一部分：基础练习\n",
    "\n",
    "#### 1.1 基本数据类型，表达式，简单输入输出\n",
    "    输入三角形的三边长，计算三角形的面积。如果输入不合法，请输出'Whoops!'\n",
    "    例如：输入：2     输出：1.7320508075688772\n",
    "                2\n",
    "                2"
   ]
  },
  {
   "cell_type": "markdown",
   "metadata": {},
   "source": [
    "#### 1.2 字符串基本操作\n",
    "    找出字符串中小写字母a第二次出现的位置\n",
    "    例如：输入：'An apple a day keeps the doctor away'\n",
    "          输出：9"
   ]
  },
  {
   "cell_type": "markdown",
   "metadata": {},
   "source": [
    "#### 1.3 条件表达式、分支流程\n",
    "    输出和成绩对应的等级：85分以上为A，60-84为B，60以下为C\n",
    "    例如：输入：84    输出：B"
   ]
  },
  {
   "cell_type": "markdown",
   "metadata": {},
   "source": [
    "#### 1.4 List、Tuple、Dict类型基本操作\n",
    "    新学期的选课抽签已经结束，可怜的小明只选上了这些课：['编译', '毛概', '操统']\n",
    "    （1）请在小明的课表中增加一门课程 'Python'，并删除课程 '毛概'\n",
    "    （2）这是小明想补选的通选课清单：{'A': ['音数'], 'C': ['三宝'], 'E': ['西音', '西美']}\n",
    "        请修改清单中不正确的通选课分类"
   ]
  },
  {
   "cell_type": "markdown",
   "metadata": {},
   "source": [
    "### 第二部分：进阶练习\n",
    "\n",
    "#### 2.1 循环语句、表达式\n",
    "    计算数列前10项和\n",
    "$$ a_n=a_{n-1}+\\frac{1}{a_{n-1}}, a_1=1 $$"
   ]
  },
  {
   "cell_type": "markdown",
   "metadata": {},
   "source": [
    "#### 2.2 循环表达式与列表\n",
    "    找出列表中只出现过一次的数字，并保持原次序输出\n",
    "    例如： 输入：2,6,1,3,7,2,7    输出：6,1,3"
   ]
  },
  {
   "cell_type": "markdown",
   "metadata": {},
   "source": [
    "#### 2.3 将以 ':' 和 '|' 为分隔符的字符串处理成 python 字典\n",
    "    例如： 输入：'k:1|k1:2|k2:3|k3:4'    输出：{'k': '1', 'k1': '2', 'k2': '3', 'k3': '4'}"
   ]
  },
  {
   "cell_type": "markdown",
   "metadata": {},
   "source": [
    "#### 3. 猜数字游戏：系统得到一个随机目标数字，用户输入数字，输出提示大或者小，直到猜对\n",
    "    一次过程例如： \n",
    "    30\n",
    "    大了！\n",
    "    20\n",
    "    小了！\n",
    "    25\n",
    "    大了！\n",
    "    24\n",
    "    恭喜你猜对了！"
   ]
  },
  {
   "cell_type": "markdown",
   "metadata": {},
   "source": [
    "#### 4. 利用filter函数，找出1~100之间的所有素数"
   ]
  },
  {
   "cell_type": "markdown",
   "metadata": {},
   "source": [
    "#### 5. 英文词频统计\n",
    "    输入为以下一段英文，不区分大小写，不计标点符号。\n",
    "    'There is no doubt that happiness is the most precious thing in the world. Without it, life will be empty and meaningless. If you wish to know how to get happiness, you must pay attention to the following two points.'"
   ]
  }
 ],
 "metadata": {
  "kernelspec": {
   "display_name": "Python 3",
   "language": "python",
   "name": "python3"
  },
  "language_info": {
   "codemirror_mode": {
    "name": "ipython",
    "version": 3
   },
   "file_extension": ".py",
   "mimetype": "text/x-python",
   "name": "python",
   "nbconvert_exporter": "python",
   "pygments_lexer": "ipython3",
   "version": "3.7.1"
  }
 },
 "nbformat": 4,
 "nbformat_minor": 4
}

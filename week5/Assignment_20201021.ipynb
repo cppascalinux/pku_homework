{
 "cells": [
  {
   "cell_type": "markdown",
   "metadata": {},
   "source": [
    "## 10.21作业\n",
    "   <font color=ff0000> 截止日期：10.23(周五)10:00 </font>\n",
    "\n",
    "### 第一部分：基础练习\n",
    "\n",
    "#### 1.1 请完成代码，实现输入任意多个空格分隔的浮点数，并打印输出这些浮点数的和\n",
    "\n",
    "\n",
    "参考：\n",
    "```\n",
    "a, b = map(int, input('输入空格分隔的两个数：').split())\n",
    "print(a+b)\n",
    "```\n",
    "\n",
    "提示：同时赋值两个变量的这个语法叫 Tuple Unpacking\n",
    "\n",
    "\n"
   ]
  },
  {
   "cell_type": "code",
   "execution_count": 4,
   "metadata": {},
   "outputs": [
    {
     "output_type": "stream",
     "name": "stdout",
     "text": [
      "Test passed!\n"
     ]
    }
   ],
   "source": [
    "def do_sum(inp):\n",
    "    return sum(float(x) for x in inp.split(' '))\n",
    "\n",
    "# 下面的语句用来检验 do_sum 的正确性\n",
    "assert do_sum('1 2') == 3\n",
    "assert do_sum('1 2 3 4.6 5 -1.1') == 14.5\n",
    "assert do_sum('-123') == -123\n",
    "print('Test passed!')"
   ]
  },
  {
   "source": [
    "#### 1.2 定义一个函数func(listinfo) listinfo:为列表，listinfo = [133, 88, 24, 33, 232, 44, 11, 44]，剔除列表中大于100的奇数"
   ],
   "cell_type": "markdown",
   "metadata": {}
  },
  {
   "source": [
    "def func(listinfo):\n",
    "    return list(filter(lambda x:not (x>100 and x%2==1),listinfo))\n",
    "print (func([133, 88, 24, 33, 232, 44, 11, 44]))"
   ],
   "cell_type": "code",
   "metadata": {},
   "execution_count": 2,
   "outputs": [
    {
     "output_type": "stream",
     "name": "stdout",
     "text": [
      "[88, 24, 33, 232, 44, 11, 44]\n"
     ]
    }
   ]
  },
  {
   "source": [
    "#### 1.3 牛顿迭代法\n",
    "以方程：$x^3-0.2x^2-0.2x-1.2=0$为例，编写程序求该方程的根,精度为0.00000001"
   ],
   "cell_type": "markdown",
   "metadata": {}
  },
  {
   "cell_type": "markdown",
   "metadata": {},
   "source": [
    "这里精度是为了控制迭代，而不是需要保留小数点后8位"
   ]
  },
  {
   "attachments": {
    "%E5%9B%BE%E7%89%87.png": {
     "image/png": "[encoded data removed]"
    }
   },
   "cell_type": "markdown",
   "metadata": {},
   "source": [
    "![%E5%9B%BE%E7%89%87.png](attachment:%E5%9B%BE%E7%89%87.png)"
   ]
  },
  {
   "cell_type": "code",
   "execution_count": 3,
   "metadata": {
    "ExecuteTime": {
     "end_time": "2020-10-21T08:17:32.700740Z",
     "start_time": "2020-10-21T08:17:32.674140Z"
    }
   },
   "outputs": [
    {
     "output_type": "stream",
     "name": "stdout",
     "text": [
      "6 rounds of iteration. Result : 1.200000\n"
     ]
    }
   ],
   "source": [
    "def f(x):\n",
    "    return x**3-0.2*x**2-0.2*x-1.2\n",
    "\n",
    "def df(x):\n",
    "    return 3*x**2-0.4*x-0.2\n",
    "def newt(iter, x0):\n",
    "    nx=0\n",
    "    while True:\n",
    "        iter+=1\n",
    "        nx=x0-f(x0)/df(x0)\n",
    "        if abs(nx-x0)<=1e-8:\n",
    "            break\n",
    "        x0=nx\n",
    "    return iter,x0\n",
    "print(\"%d rounds of iteration. Result : %f\" % newt(0, 1.7))"
   ]
  },
  {
   "cell_type": "markdown",
   "metadata": {},
   "source": [
    "#### 1.4 设计一个decorator，它可作用于任何函数上，并打印该函数的执行时间 \n",
    "（提示：`time.time()`会返回当前时间）"
   ]
  },
  {
   "cell_type": "code",
   "execution_count": 7,
   "metadata": {},
   "outputs": [
    {
     "output_type": "stream",
     "name": "stdout",
     "text": [
      "0.3305022716522217\n"
     ]
    }
   ],
   "source": [
    "import time\n",
    "def decorator(func):\n",
    "    def inner(*args, **kwargs):\n",
    "        a=time.time()\n",
    "        func()\n",
    "        b=time.time()\n",
    "        print(b-a)\n",
    "    return inner\n",
    "\n",
    "# 请 @decorator下方定义一个自己的函数 def my_func(...)\n",
    "@decorator\n",
    "def my_func():\n",
    "    sm=0\n",
    "    for i in range(10000000):\n",
    "        sm+=i\n",
    "my_func()\n",
    "# 并在这儿运行 my_func(...)"
   ]
  },
  {
   "cell_type": "markdown",
   "metadata": {},
   "source": [
    "#### 1.5 用匿名函数改造下面的代码"
   ]
  },
  {
   "cell_type": "markdown",
   "metadata": {},
   "source": [
    "```\n",
    "def is_odd(n):\n",
    "    return n % 2 == 1\n",
    "\n",
    "L = list(filter(is_odd, range(1, 20)))\n",
    "print(L)\n",
    "```"
   ]
  },
  {
   "cell_type": "code",
   "execution_count": 8,
   "metadata": {},
   "outputs": [
    {
     "output_type": "stream",
     "name": "stdout",
     "text": [
      "[1, 3, 5, 7, 9, 11, 13, 15, 17, 19]\n"
     ]
    }
   ],
   "source": [
    "L = list(filter(lambda x:x%2, range(1, 20)))\n",
    "print(L)"
   ]
  },
  {
   "cell_type": "markdown",
   "metadata": {},
   "source": [
    "### 第二部分：进阶练习"
   ]
  },
  {
   "cell_type": "markdown",
   "metadata": {},
   "source": [
    "#### 2.1 高阶函数\n",
    "\n",
    "实现函数`f`, 使得在调用`f(a)(b)`的时候返回`a+b`的结果。\n",
    "提示：函数`f`返回另一个函数。\n",
    "\n",
    "你也可以考虑怎么改进可以使得加数可变，如实现通过`f(a)(b)(c)(d)`计算`a+b+c+d`。（提示：通过传递可变参数，并判断是返回加法计算结果还是另一个函数）"
   ]
  },
  {
   "cell_type": "code",
   "execution_count": 9,
   "metadata": {
    "ExecuteTime": {
     "end_time": "2020-10-21T09:08:59.935400Z",
     "start_time": "2020-10-21T09:08:59.906799Z"
    }
   },
   "outputs": [
    {
     "output_type": "stream",
     "name": "stdout",
     "text": [
      "16\nworld!hello,\n"
     ]
    }
   ],
   "source": [
    "def f(x):\n",
    "    return lambda a:a+x\n",
    "print(f(7)(9))\n",
    "print(f(\"hello,\")(\"world!\"))"
   ]
  },
  {
   "cell_type": "markdown",
   "metadata": {},
   "source": [
    "#### 2.2 给定一个数组nums找最长递增子序列长度（要求用装饰器实现动态规划算法的记忆存储）"
   ]
  },
  {
   "cell_type": "code",
   "execution_count": 12,
   "metadata": {},
   "outputs": [
    {
     "output_type": "execute_result",
     "data": {
      "text/plain": [
       "6"
      ]
     },
     "metadata": {},
     "execution_count": 12
    }
   ],
   "source": [
    "#用装饰器实现动态规划算法的记忆存储\n",
    "def memo(func):\n",
    "    f=[-1]*10000\n",
    "    def qwq(cur):\n",
    "        if f[cur]==-1:\n",
    "            f[cur]=func(cur)\n",
    "        return f[cur]\n",
    "    return qwq\n",
    "def rec_lis(seq):\n",
    "    @memo\n",
    "    def L(cur): # 动态规划\n",
    "        res = 1\n",
    "        for pre in range(cur):\n",
    "            if seq[pre] <= seq[cur]:\n",
    "                res = max(res, 1 + L(pre))\n",
    "        return res\n",
    "    return max(L(i) for i in range(len(seq)))\n",
    "\n",
    "rec_lis([4,9,8,7,3,1,3,5,6,7,8])"
   ]
  },
  {
   "cell_type": "markdown",
   "metadata": {},
   "source": [
    "#### 2.3 从开发的代码库中得到一组数据，表示每个文件的代码变更情况\n",
    "\n",
    "    {'login.py': 'a 8 d 2 u 3', 'order.py': 'a 15 d 0 u 34', 'info.py': 'a 1 d 20 u 5'}\n",
    "\n",
    "其中 a表示新增行数，d表示删除行数，u表示修改行数。login.py的变更行数为13\n",
    "\n",
    "要求：统计出每个文件的变更行数，要求使用try...except...来发现格式错误"
   ]
  },
  {
   "cell_type": "code",
   "execution_count": null,
   "metadata": {},
   "outputs": [],
   "source": [
    "data={'login.py': 'a 8 d 2 u 3', 'order.py': 'a 15 d 0 u 34', 'info.py': 'a 1 d 20 u 5', 'tmp.py' : 'asdfg'}\n",
    "for k,v in data.items():\n",
    "    sum=0\n",
    "    for x in v.split(' '):\n",
    "        # 在这里补充\n",
    "        # 要求使用try...except...来发现格式错误\n",
    "    print('文件：%s,共变更%d行'%(k,sum))"
   ]
  },
  {
   "cell_type": "markdown",
   "metadata": {},
   "source": [
    "#### 2.4 创建一个名为PkuClass 的类， 其方法__init__( ) 设置两个属性：student_num 和teacher_num 。 创建一个名为describe_class( ) 的方法， 能够返回student_num 和teacher_num。创建一个quit_class()方法，能够减去相应的退课学生数。"
   ]
  },
  {
   "cell_type": "code",
   "execution_count": null,
   "metadata": {
    "ExecuteTime": {
     "end_time": "2020-10-21T08:25:36.543239Z",
     "start_time": "2020-10-21T08:25:35.928631Z"
    }
   },
   "outputs": [],
   "source": [
    "class PkuClass:\n",
    "    # 补充完成该类 \n",
    "    def __init__(self,s_n,t_n):\n",
    "        raise NotImplementedError\n",
    "    \n",
    "pkuclass = PkuClass(100,1)  \n",
    "pkuclass.quit(10)\n",
    "assert pkuclass.describe_class() == (90,1)"
   ]
  },
  {
   "cell_type": "markdown",
   "metadata": {},
   "source": [
    "#### 2.5 继承2.4的PkuClass类实现一个PythonClass，修改相应默认函数,使得直接print该类就能在屏幕中打出该课程的学生人数和教师人数(输出格式为：该课共有学生x人,老师y人)"
   ]
  },
  {
   "cell_type": "code",
   "execution_count": null,
   "metadata": {},
   "outputs": [],
   "source": []
  },
  {
   "cell_type": "code",
   "execution_count": null,
   "metadata": {},
   "outputs": [],
   "source": []
  }
 ],
 "metadata": {
  "kernelspec": {
   "name": "Python 3.8.6 64-bit",
   "display_name": "Python 3.8.6 64-bit",
   "metadata": {
    "interpreter": {
     "hash": "31f2aee4e71d21fbe5cf8b01ff0e069b9275f58929596ceb00d14d90e3e16cd6"
    }
   }
  },
  "language_info": {
   "codemirror_mode": {
    "name": "ipython",
    "version": 3
   },
   "file_extension": ".py",
   "mimetype": "text/x-python",
   "name": "python",
   "nbconvert_exporter": "python",
   "pygments_lexer": "ipython3",
   "version": "3.8.6-final"
  }
 },
 "nbformat": 4,
 "nbformat_minor": 2
}
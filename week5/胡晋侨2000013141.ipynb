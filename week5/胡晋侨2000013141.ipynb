{
 "cells": [
  {
   "cell_type": "markdown",
   "metadata": {},
   "source": [
    "## Homework_2020_10_16\n",
    "\n",
    "### 第一部分：基础练习\n",
    "\n",
    "#### 1.1 基本数据类型，表达式，简单输入输出\n",
    "    输入三角形的三边长，计算三角形的面积。如果输入不合法，请输出'Whoops!'\n",
    "    例如：输入：2     输出：1.7320508075688772\n",
    "                2\n",
    "                2"
   ]
  },
  {
   "cell_type": "code",
   "execution_count": 12,
   "metadata": {},
   "outputs": [
    {
     "name": "stdout",
     "output_type": "stream",
     "text": [
      "2\n",
      "2\n",
      "2\n",
      "1.7320508075688772\n"
     ]
    }
   ],
   "source": [
    "a,b,c=sorted((float(input()),float(input()),float(input())))\n",
    "if a+b<=c:\n",
    "    print('Whoops!')\n",
    "else:\n",
    "    d=(a+b+c)/2\n",
    "    s=(d*(d-a)*(d-b)*(d-c))**0.5\n",
    "    print(s)"
   ]
  },
  {
   "cell_type": "markdown",
   "metadata": {},
   "source": [
    "#### 1.2 字符串基本操作\n",
    "    找出字符串中小写字母a第二次出现的位置\n",
    "    例如：输入：'An apple a day keeps the doctor away'\n",
    "          输出：9"
   ]
  },
  {
   "cell_type": "code",
   "execution_count": 13,
   "metadata": {},
   "outputs": [
    {
     "name": "stdout",
     "output_type": "stream",
     "text": [
      "An apple a day keeps the doctor away\n",
      "9\n"
     ]
    }
   ],
   "source": [
    "s=input()\n",
    "sm,p=0,-1\n",
    "while sm<2:\n",
    "    p+=1\n",
    "    if s[p]=='a':\n",
    "        sm+=1\n",
    "print(p)"
   ]
  },
  {
   "cell_type": "markdown",
   "metadata": {},
   "source": [
    "#### 1.3 条件表达式、分支流程\n",
    "    输出和成绩对应的等级：85分以上为A，60-84为B，60以下为C\n",
    "    例如：输入：84    输出：B"
   ]
  },
  {
   "cell_type": "code",
   "execution_count": 14,
   "metadata": {},
   "outputs": [
    {
     "name": "stdout",
     "output_type": "stream",
     "text": [
      "84\n",
      "B\n"
     ]
    }
   ],
   "source": [
    "a=int(input())\n",
    "if a>=85:\n",
    "    print('A')\n",
    "elif a>=60:\n",
    "    print('B')\n",
    "else:\n",
    "    print('C')"
   ]
  },
  {
   "cell_type": "markdown",
   "metadata": {},
   "source": [
    "#### 1.4 List、Tuple、Dict类型基本操作\n",
    "    新学期的选课抽签已经结束，可怜的小明只选上了这些课：['编译', '毛概', '操统']\n",
    "    （1）请在小明的课表中增加一门课程 'Python'，并删除课程 '毛概'\n",
    "    （2）这是小明想补选的通选课清单：{'A': ['音数'], 'C': ['三宝'], 'E': ['西音', '西美']}\n",
    "        请修改清单中不正确的通选课分类"
   ]
  },
  {
   "cell_type": "code",
   "execution_count": 15,
   "metadata": {},
   "outputs": [
    {
     "name": "stdout",
     "output_type": "stream",
     "text": [
      "['编译', '操统', 'Python']\n",
      "{'A': ['音数', '三宝'], 'C': [], 'E': ['西音', '西美', '音数']}\n"
     ]
    }
   ],
   "source": [
    "l=['编译','毛概','操统']\n",
    "l.remove('毛概')\n",
    "l.append('Python')\n",
    "print(l)\n",
    "d={'A':['音数'],'C':['三宝'],'E':['西音','西美']}\n",
    "d['E'].append('音数')\n",
    "d['C'].remove('三宝')\n",
    "d['A'].append('三宝')\n",
    "#我不知道西音和西美的分类QwQ求放过\n",
    "print(d)"
   ]
  },
  {
   "cell_type": "markdown",
   "metadata": {},
   "source": [
    "### 第二部分：进阶练习\n",
    "\n",
    "#### 2.1 循环语句、表达式\n",
    "    计算数列前10项和\n",
    "$$ a_n=a_{n-1}+\\frac{1}{a_{n-1}}, a_1=1 $$"
   ]
  },
  {
   "cell_type": "code",
   "execution_count": 16,
   "metadata": {},
   "outputs": [
    {
     "name": "stdout",
     "output_type": "stream",
     "text": [
      "32.03687831484261\n"
     ]
    }
   ],
   "source": [
    "a=[0]*11\n",
    "a[1]=1\n",
    "for i in range(2,11):\n",
    "\ta[i]=a[i-1]+1/a[i-1]\n",
    "print(sum(a))"
   ]
  },
  {
   "cell_type": "markdown",
   "metadata": {},
   "source": [
    "#### 2.2 循环表达式与列表\n",
    "    找出列表中只出现过一次的数字，并保持原次序输出\n",
    "    例如： 输入：2,6,1,3,7,2,7    输出：6,1,3"
   ]
  },
  {
   "cell_type": "code",
   "execution_count": 17,
   "metadata": {},
   "outputs": [
    {
     "name": "stdout",
     "output_type": "stream",
     "text": [
      "2,6,1,3,7,2,7\n",
      "6,1,3\n"
     ]
    }
   ],
   "source": [
    "l=[int(x) for x in input().split(',')]\n",
    "s={}\n",
    "for i in l:\n",
    "\tif i in s:\n",
    "\t\ts[i]+=1\n",
    "\telse:\n",
    "\t\ts[i]=1\n",
    "o=[]\n",
    "for i in l:\n",
    "\tif s[i]==1:\n",
    "\t\to.append(i)\n",
    "for i in range(len(o)-1):\n",
    "\tprint(o[i],end=',')\n",
    "print(o[-1])"
   ]
  },
  {
   "cell_type": "markdown",
   "metadata": {},
   "source": [
    "#### 2.3 将以 ':' 和 '|' 为分隔符的字符串处理成 python 字典\n",
    "    例如： 输入：'k:1|k1:2|k2:3|k3:4'    输出：{'k': '1', 'k1': '2', 'k2': '3', 'k3': '4'}"
   ]
  },
  {
   "cell_type": "code",
   "execution_count": 18,
   "metadata": {},
   "outputs": [
    {
     "name": "stdout",
     "output_type": "stream",
     "text": [
      "k:1|k1:2|k2:3|k3:4\n",
      "{'k': '1', 'k1': '2', 'k2': '3', 'k3': '4'}\n"
     ]
    }
   ],
   "source": [
    "l=input().split('|')\n",
    "d={}\n",
    "for s in l:\n",
    "    t=s.split(':')\n",
    "    d[t[0]]=t[1]\n",
    "print(d)"
   ]
  },
  {
   "cell_type": "markdown",
   "metadata": {},
   "source": [
    "#### 3. 猜数字游戏：系统得到一个随机目标数字，用户输入数字，输出提示大或者小，直到猜对\n",
    "    一次过程例如： \n",
    "    30\n",
    "    大了！\n",
    "    20\n",
    "    小了！\n",
    "    25\n",
    "    大了！\n",
    "    24\n",
    "    恭喜你猜对了！"
   ]
  },
  {
   "cell_type": "code",
   "execution_count": 19,
   "metadata": {},
   "outputs": [
    {
     "name": "stdout",
     "output_type": "stream",
     "text": [
      "50\n",
      "小了！\n",
      "75\n",
      "小了！\n",
      "87\n",
      "小了！\n",
      "93\n",
      "小了！\n",
      "97\n",
      "大了！\n",
      "95\n",
      "恭喜你猜对了！\n"
     ]
    }
   ],
   "source": [
    "import random\n",
    "v=random.randint(1,100)\n",
    "nv=-1\n",
    "while v!=nv:\n",
    "    nv=int(input())\n",
    "    if nv>v:\n",
    "        print('大了！')\n",
    "    elif nv<v:\n",
    "        print('小了！')\n",
    "    else:\n",
    "        print('恭喜你猜对了！')"
   ]
  },
  {
   "cell_type": "markdown",
   "metadata": {},
   "source": [
    "#### 4. 利用filter函数，找出1~100之间的所有素数"
   ]
  },
  {
   "cell_type": "code",
   "execution_count": 20,
   "metadata": {},
   "outputs": [
    {
     "name": "stdout",
     "output_type": "stream",
     "text": [
      "[2, 3, 5, 7, 11, 13, 17, 19, 23, 29, 31, 37, 41, 43, 47, 53, 59, 61, 67, 71, 73, 79, 83, 89, 97]\n"
     ]
    }
   ],
   "source": [
    "def judge(x):\n",
    "    for i in range(2,x):\n",
    "        if x%i==0:\n",
    "            return 0\n",
    "    return x-1\n",
    "l=list(filter(judge,range(1,101)))\n",
    "print(l)"
   ]
  },
  {
   "cell_type": "markdown",
   "metadata": {},
   "source": [
    "#### 5. 英文词频统计\n",
    "    输入为以下一段英文，不区分大小写，不计标点符号。\n",
    "    'There is no doubt that happiness is the most precious thing in the world. Without it, life will be empty and meaningless. If you wish to know how to get happiness, you must pay attention to the following two points.'"
   ]
  },
  {
   "cell_type": "code",
   "execution_count": 21,
   "metadata": {},
   "outputs": [
    {
     "name": "stdout",
     "output_type": "stream",
     "text": [
      "There is no doubt that happiness is the most precious thing in the world. Without it, life will be empty and meaningless. If you wish to know how to get happiness, you must pay attention to the following two points.\n",
      "the 3\n",
      "to 3\n",
      "is 2\n",
      "happiness 2\n",
      "you 2\n",
      "there 1\n",
      "no 1\n",
      "doubt 1\n",
      "that 1\n",
      "most 1\n",
      "precious 1\n",
      "thing 1\n",
      "in 1\n",
      "world 1\n",
      "without 1\n",
      "it 1\n",
      "life 1\n",
      "will 1\n",
      "be 1\n",
      "empty 1\n",
      "and 1\n",
      "meaningless 1\n",
      "if 1\n",
      "wish 1\n",
      "know 1\n",
      "how 1\n",
      "get 1\n",
      "must 1\n",
      "pay 1\n",
      "attention 1\n",
      "following 1\n",
      "two 1\n",
      "points 1\n"
     ]
    }
   ],
   "source": [
    "def isok(s):\n",
    "\treturn 'a'<=s<='z' or s==' '\n",
    "s=(''.join(list(filter(isok,input().lower())))).split(' ')\n",
    "d={}\n",
    "for wd in s:\n",
    "\tif wd in d:\n",
    "\t\td[wd]+=1\n",
    "\telse:\n",
    "\t\td[wd]=1\n",
    "l=sorted(list(d.items()),key=lambda x:x[1],reverse=True)\n",
    "for a,b in l:\n",
    "\tprint(a,b)"
   ]
  }
 ],
 "metadata": {
  "kernelspec": {
   "display_name": "Python 3",
   "language": "python",
   "name": "python3"
  },
  "language_info": {
   "codemirror_mode": {
    "name": "ipython",
    "version": 3
   },
   "file_extension": ".py",
   "mimetype": "text/x-python",
   "name": "python",
   "nbconvert_exporter": "python",
   "pygments_lexer": "ipython3",
   "version": "3.8.3"
  }
 },
 "nbformat": 4,
 "nbformat_minor": 4
}

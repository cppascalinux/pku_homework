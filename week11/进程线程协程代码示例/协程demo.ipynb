{
 "cells": [
  {
   "cell_type": "markdown",
   "metadata": {},
   "source": [
    "### yield, yield from, send 用法"
   ]
  },
  {
   "cell_type": "code",
   "execution_count": 1,
   "metadata": {
    "ExecuteTime": {
     "end_time": "2020-11-25T02:21:40.480210Z",
     "start_time": "2020-11-25T02:21:40.451609Z"
    }
   },
   "outputs": [],
   "source": [
    "def fib(n):\n",
    "    index = 0\n",
    "    a = 0\n",
    "    b = 1\n",
    "\n",
    "    while index < n:\n",
    "        yield b\n",
    "        a,b = b, a+b\n",
    "        index += 1"
   ]
  },
  {
   "cell_type": "markdown",
   "metadata": {},
   "source": [
    "`fib`是个生成器对象。"
   ]
  },
  {
   "cell_type": "code",
   "execution_count": 2,
   "metadata": {
    "ExecuteTime": {
     "end_time": "2020-11-25T02:21:48.586958Z",
     "start_time": "2020-11-25T02:21:48.531356Z"
    }
   },
   "outputs": [
    {
     "name": "stdout",
     "output_type": "stream",
     "text": [
      "<generator object fib at 0x0000000004F86EB8>\n"
     ]
    }
   ],
   "source": [
    "fib = fib(100)\n",
    "print(fib)"
   ]
  },
  {
   "cell_type": "code",
   "execution_count": 4,
   "metadata": {
    "ExecuteTime": {
     "end_time": "2020-11-25T02:22:27.608315Z",
     "start_time": "2020-11-25T02:22:27.592715Z"
    }
   },
   "outputs": [
    {
     "name": "stdout",
     "output_type": "stream",
     "text": [
      "1\n",
      "1\n",
      "2\n",
      "3\n"
     ]
    }
   ],
   "source": [
    "print(next(fib))\n",
    "print(next(fib))\n",
    "print(next(fib))\n",
    "print(next(fib))"
   ]
  },
  {
   "cell_type": "markdown",
   "metadata": {},
   "source": [
    "除了不断`next`，还可以通过`send`给迭代器传送一个值，这个值在函数中被`yield`语句返回。`send`会返回下一次迭代器`yield`的值。"
   ]
  },
  {
   "cell_type": "code",
   "execution_count": 10,
   "metadata": {
    "ExecuteTime": {
     "end_time": "2020-11-25T02:32:16.066588Z",
     "start_time": "2020-11-25T02:32:16.030987Z"
    }
   },
   "outputs": [
    {
     "name": "stdout",
     "output_type": "stream",
     "text": [
      "`fib` yield 1 \n",
      "`fib` receive 1\n",
      "`fib` yield 1 \n",
      "`fib` receive 1\n",
      "`fib` yield 2 \n",
      "`fib` receive 1\n",
      "`fib` yield 3 \n",
      "`fib` receive 1\n",
      "`fib` yield 5 \n"
     ]
    }
   ],
   "source": [
    "def fib(n):\n",
    "    index = 0\n",
    "    a = 0\n",
    "    b = 1\n",
    "\n",
    "    while index < n:\n",
    "        receive = yield b\n",
    "        print('`fib` receive %d' % receive)\n",
    "        a,b = b, a+b\n",
    "        index += 1\n",
    "\n",
    "fib = fib(20)\n",
    "print('`fib` yield %d ' % fib.send(None))   # 效果等同于print(next(fib))\n",
    "print('`fib` yield %d ' % fib.send(1))\n",
    "print('`fib` yield %d ' % fib.send(1))\n",
    "print('`fib` yield %d ' % fib.send(1))\n",
    "print('`fib` yield %d ' % fib.send(1))"
   ]
  },
  {
   "cell_type": "markdown",
   "metadata": {
    "ExecuteTime": {
     "end_time": "2020-11-25T02:24:16.841228Z",
     "start_time": "2020-11-25T02:24:16.813627Z"
    }
   },
   "source": [
    "迭代器可以嵌套。用`yield from`可以套一个迭代器。"
   ]
  },
  {
   "cell_type": "code",
   "execution_count": 8,
   "metadata": {
    "ExecuteTime": {
     "end_time": "2020-11-25T02:28:00.479235Z",
     "start_time": "2020-11-25T02:28:00.451634Z"
    }
   },
   "outputs": [
    {
     "name": "stdout",
     "output_type": "stream",
     "text": [
      "0\n",
      "1\n",
      "2\n",
      "3\n",
      "4\n"
     ]
    }
   ],
   "source": [
    "def fun_inner():\n",
    "    i = 0\n",
    "    while True:\n",
    "        i = yield i\n",
    "\n",
    "def fun_outer():\n",
    "    yield from fun_inner()\n",
    "\n",
    "outer = fun_outer()\n",
    "outer.send(None)\n",
    "for i in range(5):\n",
    "    print(outer.send(i))"
   ]
  },
  {
   "cell_type": "markdown",
   "metadata": {},
   "source": [
    "使用迭代器实现协程。"
   ]
  },
  {
   "cell_type": "code",
   "execution_count": 12,
   "metadata": {
    "ExecuteTime": {
     "end_time": "2020-11-25T02:36:00.157319Z",
     "start_time": "2020-11-25T02:36:00.121718Z"
    }
   },
   "outputs": [
    {
     "name": "stdout",
     "output_type": "stream",
     "text": [
      "[PRODUCER] Producing 1...\n",
      "[CONSUMER] Consuming 1...\n",
      "[PRODUCER] Consumer return: 200 OK\n",
      "[PRODUCER] Producing 2...\n",
      "[CONSUMER] Consuming 2...\n",
      "[PRODUCER] Consumer return: 200 OK\n",
      "[PRODUCER] Producing 3...\n",
      "[CONSUMER] Consuming 3...\n",
      "[PRODUCER] Consumer return: 200 OK\n",
      "[PRODUCER] Producing 4...\n",
      "[CONSUMER] Consuming 4...\n",
      "[PRODUCER] Consumer return: 200 OK\n",
      "[PRODUCER] Producing 5...\n",
      "[CONSUMER] Consuming 5...\n",
      "[PRODUCER] Consumer return: 200 OK\n"
     ]
    }
   ],
   "source": [
    "def consumer():\n",
    "    r = ''\n",
    "    while True:\n",
    "        n = yield r\n",
    "        if not n:\n",
    "            return\n",
    "        print('[CONSUMER] Consuming %s...' % n)\n",
    "        r = '200 OK'\n",
    "\n",
    "def produce(c):\n",
    "    c.send(None)\n",
    "    n = 0\n",
    "    while n < 5:\n",
    "        n = n + 1\n",
    "        print('[PRODUCER] Producing %s...' % n)\n",
    "        r = c.send(n)\n",
    "        print('[PRODUCER] Consumer return: %s' % r)\n",
    "    c.close()\n",
    "\n",
    "c = consumer()\n",
    "produce(c)"
   ]
  },
  {
   "cell_type": "markdown",
   "metadata": {},
   "source": [
    "使用`async`, `await`关键字实现协程。\n",
    "参考`demo_coroutine.py`和`demo_coroutine_producer_consumer.py`"
   ]
  },
  {
   "cell_type": "code",
   "execution_count": null,
   "metadata": {},
   "outputs": [],
   "source": []
  }
 ],
 "metadata": {
  "kernelspec": {
   "display_name": "Python 3",
   "language": "python",
   "name": "python3"
  },
  "language_info": {
   "codemirror_mode": {
    "name": "ipython",
    "version": 3
   },
   "file_extension": ".py",
   "mimetype": "text/x-python",
   "name": "python",
   "nbconvert_exporter": "python",
   "pygments_lexer": "ipython3",
   "version": "3.6.3"
  }
 },
 "nbformat": 4,
 "nbformat_minor": 2
}

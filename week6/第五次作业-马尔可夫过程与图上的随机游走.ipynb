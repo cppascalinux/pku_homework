{
 "cells": [
  {
   "cell_type": "markdown",
   "metadata": {},
   "source": [
    "# 第五次作业：马尔可夫过程与图上的随机游走\n",
    "\n",
    "-------\n",
    "\n",
    "### 1. 简单随机游走\n",
    "\n",
    "首先随机生成一个带权无向图。定义这样一个随机游走：每次移动到邻居的概率正比于权值。\n",
    "\n",
    "请你对邻接矩阵进行归一化得到概率转移矩阵`P`，使得其每一行和为1. （提示：可以使用`np.sum()`函数。合理运用广播机制。）"
   ]
  },
  {
   "cell_type": "code",
   "execution_count": null,
   "metadata": {
    "ExecuteTime": {
     "end_time": "2020-10-23T12:38:03.467580Z",
     "start_time": "2020-10-23T12:38:03.444979Z"
    }
   },
   "outputs": [],
   "source": [
    "import numpy as np\n",
    "N = 10\n",
    "A = np.random.uniform(0, 10, size = (N, N))\n",
    "A = A + A.T"
   ]
  },
  {
   "cell_type": "code",
   "execution_count": null,
   "metadata": {
    "ExecuteTime": {
     "end_time": "2020-10-23T12:38:05.354614Z",
     "start_time": "2020-10-23T12:38:05.336014Z"
    }
   },
   "outputs": [],
   "source": [
    "# TODO. P = ?\n",
    "\n",
    "print(P.sum(axis = 1)) # 检查是否P的每一行为1."
   ]
  },
  {
   "cell_type": "markdown",
   "metadata": {},
   "source": [
    "设初始分布为均匀分布：$\\mu_0 = (1/N, 1/N, ..., 1/N)$. 请你通过使用矩阵乘法迭代$T=100000$次，返回$\\mu_T$."
   ]
  },
  {
   "cell_type": "code",
   "execution_count": null,
   "metadata": {
    "ExecuteTime": {
     "end_time": "2020-10-23T12:38:08.472676Z",
     "start_time": "2020-10-23T12:38:08.456076Z"
    }
   },
   "outputs": [],
   "source": [
    "mu_0 = np.ones((1, N))/N"
   ]
  },
  {
   "cell_type": "code",
   "execution_count": null,
   "metadata": {
    "ExecuteTime": {
     "end_time": "2020-10-23T12:38:09.291908Z",
     "start_time": "2020-10-23T12:38:08.827696Z"
    }
   },
   "outputs": [],
   "source": [
    "def transition(mu_0, P, T):\n",
    "    '''\n",
    "    Parameters:\n",
    "    -----------\n",
    "    mu_0 : numpy.array, of size (1, N). A row vector representing the initial distribution.\n",
    "    P : numpy.array, of size (N, N). \n",
    "    T : int.\n",
    "    \n",
    "    Returns\n",
    "    ---------\n",
    "    mu_T : The result of mu_0 * (P)^T.\n",
    "    '''\n",
    "    # TODO\n",
    "\n",
    "print(transition(mu_0, P, 100000))"
   ]
  },
  {
   "cell_type": "markdown",
   "metadata": {},
   "source": [
    "由于平稳分布是转移概率矩阵的左特征值1相应的特征向量。请你调用`np.linalg.eig()`函数（该函数会返回所有右特征值和相应的右特征向量，详见帮助文档。我们计算的是做特征向量，注意传入时写成`P.T`），并取出第一个特征值和特征向量。这和上面的结果应该是一致的。"
   ]
  },
  {
   "cell_type": "code",
   "execution_count": null,
   "metadata": {
    "ExecuteTime": {
     "end_time": "2020-10-23T12:41:29.122667Z",
     "start_time": "2020-10-23T12:41:29.092066Z"
    }
   },
   "outputs": [],
   "source": [
    "# TODO lamb, U = ???\n",
    "\n",
    "lamb[0], U[:, 0] / U[:, 0].sum()"
   ]
  },
  {
   "cell_type": "markdown",
   "metadata": {},
   "source": [
    "由于我们理论证明了平稳分布正比于每个结点的度。请你运行下面的块，验证平稳分布与度向量成正比。"
   ]
  },
  {
   "cell_type": "code",
   "execution_count": null,
   "metadata": {
    "ExecuteTime": {
     "end_time": "2020-10-23T12:38:10.165337Z",
     "start_time": "2020-10-23T12:38:10.127137Z"
    }
   },
   "outputs": [],
   "source": [
    "degree = A.sum(axis = 1)\n",
    "degree / degree.sum()"
   ]
  },
  {
   "cell_type": "markdown",
   "metadata": {},
   "source": [
    "**遍历定理**  请你实际采样一个马尔可夫链1000000次，验证各个状态的出现频率是否与平稳分布一致。请你完成函数`random_select`和`sampling`."
   ]
  },
  {
   "cell_type": "code",
   "execution_count": null,
   "metadata": {
    "ExecuteTime": {
     "end_time": "2020-10-23T12:59:52.032516Z",
     "start_time": "2020-10-23T12:59:51.994915Z"
    }
   },
   "outputs": [],
   "source": [
    "def random_select(p):\n",
    "    '''\n",
    "    Randomly draw a sample from the given discrete probability distribution `p`.\n",
    "    \n",
    "    Pameters:\n",
    "    ----------\n",
    "    p : array of real. A probability distribution.\n",
    "    \n",
    "    Returns:\n",
    "    ----------\n",
    "    idx : int, in [ 0, len(p) ).\n",
    "    '''\n",
    "    # TODO\n",
    "    \n",
    "def sampling(x0, P, T):\n",
    "    '''\n",
    "    Sampling a Markov chain `P` for `T` steps, starting at `x0`.\n",
    "    \n",
    "    Parameters:\n",
    "    -----------\n",
    "    x0 : int. starting state. ranging from 0 ~ N-1\n",
    "    P : numpy.array, of size (N, N). \n",
    "    T : int.\n",
    "    \n",
    "    Returns\n",
    "    ---------\n",
    "    [x0, x_1, ..., x_T] : array-like. A sample of the Markov chain.\n",
    "    '''\n",
    "    # TODO\n",
    "        \n",
    "\n",
    "X = sampling(0, P, 1000000)"
   ]
  },
  {
   "cell_type": "markdown",
   "metadata": {},
   "source": [
    "统计`X`中各个状态的出现频率。尝试用`numpy`中的矩阵计算函数给出简洁的实现。"
   ]
  },
  {
   "cell_type": "code",
   "execution_count": null,
   "metadata": {},
   "outputs": [],
   "source": [
    "def calc_frequency(X, N):\n",
    "    # TODO"
   ]
  },
  {
   "cell_type": "code",
   "execution_count": null,
   "metadata": {},
   "outputs": [],
   "source": [
    "# 验证是否接近\n",
    "calc_frequency(X, N)\n",
    "degree / degree.sum()"
   ]
  },
  {
   "cell_type": "markdown",
   "metadata": {},
   "source": [
    "### 2. PageRank / TextRank\n",
    "\n",
    "下面从马尔可夫随机游走的视角来考察TextRank. 取出人民日报2004年的一篇新闻如下：\n",
    "\n",
    "> 北京天安门广场/ns 万/m 人/n 观看/v 升旗/n\n",
    ">\n",
    "> (/x 记者/n 刘江/nr 吴杰/nr )/x 新年/t 第一天/m ,/x 1/x 万多名/m 来自/v 祖国各地/l 的/uj 群众/n 聚集/v 在/p 天安门广场/ns ,/x 在/p 2004/m 年/m 最初/t 的/uj 晨曦/n 中/f ,/x 观看/v 鲜艳/a 的/uj 五星红旗/nr 冉冉升起/nr 。/x\n",
    ">\n",
    "> 隆冬/t 的/uj 北京/ns 最低气温/n 达到/v 约/d 零下/m 4/x 摄氏度/n ,/x 广场/n 上/f 寒风刺骨/l ,/x 但是/c ,/x 兴奋/v 的/uj 人们/n 很多/m 从/p 凌晨/t 4/x 时/ng 就/d 来到/v 这里/r ,/x 耐心/a 地/uv 等候/n 升旗仪式/l 开始/v 。/x\n",
    ">\n",
    "> 来自/v 河北/ns 周口/n 的/uj 农民/n 周/nr 保山/ns 和/c 周文俊/nr 坐/v 了/ul 10/m 多个/m 小时/n 长途汽车/l 专门/n 赶来/d 。/x 他们/r 说/v ,/x “/x 自从/p 在/p 电视/n 上/f 看到/v 天安门/ns 升国旗/n 的/uj 镜头/n ,/x 就/d 一直/d 想能/v 有/v 一天/m 亲眼/d 看看/v 这个/r 过程/n 。/x 现在/t ,/x 政府/n 非常重视/l 农民/n 的/uj 问题/n ,/x 农村/n 的/uj 日子/n 比/p 过去/t 富裕/a ,/x 我们/r 的/uj 很多/m 愿望/v 也/d 能够/v 变成/v 现实/n 了/ul 。/x ”/x\n",
    ">\n",
    "> 7/x 时/ng 33/m 分/q ,/x 曙色/n 初露/v ,/x 一幅/d 激越/a 动人/n 的/uj 画面/n 在/p 人们/n 视线/n 中/f 展开/v :/x 由/p 60/m 位/q 乐手/n 组成/v 的/uj 军乐队/n 奏响/n 了/x 《/x 歌唱祖国/n 》/x 的/x 乐曲/n ,/x 36/m 名/m 英武/ns 庄重/a 的/uj 武警/j 国旗护卫队/nt 队员/n ,/x 迈着/v 整齐/d 有力/n 的/uj 步伐/n 出现/v 在/p 天安门城楼/ns 前/f 的/uj 金水桥/nr ,/x 穿越/v 长安街/ns 向/p 广场/n 走来/v 。/x\n",
    ">\n",
    "> 7/x 时/ng 36/m 分/q ,/x 国旗护卫队/nt 升旗手/l 紧紧/d 握住/v 旗帜/n 的/uj 下端/f ,/x 手臂/n 奋力/d 向/p 高处/d 挥扬/v ,/x 随着/p 一团/m “/x 烈焰/n ”/x 腾空/v 飞舞/n ,/x 雄壮/a 的/x 《/x 义勇军/n 进行曲/n 》/x 响彻/v 在/p 广场/n 上空/v 。/x 目睹/v 这/r 一切/r ,/x 广场/n 上/f 的/uj 人们/n 神情/n 激动/a 而/c 又/d 肃穆/a 。/x 回味/v 刚刚/d 过去/t 的/uj 不/d 平凡/a 的/uj 2003/m 年/m ,/x 每个/r 人/n 都/d 心潮起伏/i 。/x\n",
    ">\n",
    "> 山东省/ns 沂蒙山区/ns 县级/b 防疫站/n 的/uj 孔/n 红霞/nr ,/x 在/p 非典/b 期间/f 一直/d 坚持/v 防护/v 工作/vn ,/x 并/c 勇敢/a 地/uv 申请/v 到/v 第一线/m 工作/vn 。/x 她/r 说/v :/x “/x 每次/r 大家/n 从/p 电视/n 上/f 看到/v 天安门广场/ns 飘扬/v 的/uj 五星红旗/nr ,/x 战胜/n 病魔/n 的/uj 信心/n 都/d 会/v 增强/v 。/x 在/p 党的领导/n 下/f ,/x 全国/n 人民/n 取得/v 了/ul 抗非典/n 斗争/vn 的/uj 胜利/vn ,/x 经历/n 了/ul 困难/an 和/c 挫折/n 的/uj 民族/n 更加/d 坚强/v 和/c 团结/a 了/ul 。/x ”/x\n",
    ">\n",
    "> 四川省/ns 重庆/ns 万州/ns 的/uj 袁/nr 拥磨/v ,/x 是/v 一位/m 刚刚开始/nr 创业/n 的/uj 民营企业/n 家/m 。/x 他/r 感慨/v 地/uv 说/v ,/x 国家/n 对/p 民营企业/n 的/uj 扶持/v 大大/b 激发/v 了/ul 民间/n 创业/n 的/uj 积极性/n ,/x “/x 神舟/nz ”/x 5/x 号/m 飞船/n 的/uj 飞行/v 成功/a ,/x 使/v 全国/n 人民/n 对/p 中国/ns 科/x 技/x 、/x 经济/n 发展/vn 的/uj 前景/n 更加/d 充满信心/i ,/x 毫无疑问/l ,/x 中国/ns 正/d 迅速/ad 向/p 现代化/vn 进程/n 迈进/v 。/x\n",
    ">\n",
    "> 国旗护卫队/nt 擎/v 旗手/n 苏盛旭/nr 来自/v 东北/ns 。/x 他/r 说/v ,/x 党中央/nt 在/p 去年/t 提出/v 了/ul 振兴/v 东北/ns 老/a 工业/n 基地/n 的/uj 举措/v ,/x 这/r 是/v 家乡/n 人们/n 期盼/v 已/d 久/a 的/uj 大事/n 。/x 能/v 在/p 新年/t 第一天/m 亲手/d 升起/v “/x 祖国/n 第一/m 旗/x ”/x ,/x 感到/v 非常/d 荣幸/nr 。/x “/x 我/x 为/x 祖国/n 祝福/nr ,/x 为/p 家乡/n 和/c 父母/n 祝福/nr 。/x ”/x\n",
    ">\n",
    "> 广场/n 上/f ,/x 一个/m 拉/x 着/x “/x 进军/v 奥运会/j 为国/r 夺金牌/i ”/x 横幅/n 的/uj 百余人/l 团队/n 十分/m 引人注目/i 。/x 他们/r 是/v 国家体育总局/nt 重/a 竞技/n 运动/vn 中心/n 举重队/n 的/uj 运动员/n 、/x 教练/vn 、/x 科研人员/n 和/c 医生/n 等/u 。/x\n",
    ">\n",
    "> 重/a 竞技/n 运动/vn 中心/n 主任/b 马/n 文广/nz 说/v ,/x “/x 我们/r 通过/p 这种/r 形式/n 来/v 激发/v 运动员/n 的/uj 爱国主义/nz 精神/n ,/x 鼓励/v 他们/r 刻苦/v 训练/vn ,/x 争取/v 在/p 2004/m 年/m 奥运会/j 上/f 夺取/v 金牌/n 。/x ”/x\n",
    ">\n",
    "> 国家/n 举重队/n 世界冠军/n 刘春红/nr 说/v ,/x “/x 虽然/c 曾/d 在/p 赛场/n 夺冠/v 时/ng 目睹/v 五星红旗/nr 的/uj 升起/v ,/x 但是/c ,/x 与/p 天安门广场/ns 看/v 升旗/n 的/uj 感觉/n 还是/c 不/d 一样/r ―/x ―/x 这/x 是/x 在/x 祖国/n 的/uj 心脏/n 感受/v 最/d 强烈/a 的/uj 爱国/ns 情怀/n 。/x ”/x\n",
    ">\n",
    "> 过/ug 了/ul 2/x 分/q 07/m 秒/m ,/x 国旗/n 攀升/v 至/p 30/m 米/m 高/a 旗杆/n 的/uj 顶端/f 。/x\n",
    ">\n",
    "> 华北电力大学/nt 学生/n 谢晔/nr 说/v :/x “/x 太/x 美好/a 了/ul ,/x 我会/n 永远/d 留住/v 这个/r 记忆/n 。/x 我们/r 会用/n 青春/ns 的/uj 热情/n 和/c 刻苦/v 努力/ad ,/x 为/p 祖国/n 繁荣昌盛/l 的/uj 未来/t 奋斗/v 。/x ”/x\n",
    ">\n",
    "> 仪式/n 结束/v 后/f ,/x 人们/n 还是/c 依依不舍/i ,/x 久久/d 不肯/v 离去/v ,/x 深情/n 凝视着/n 在/p 晨风/n 中/f 飘扬/v 的/uj 国旗/n 。/x 在/p 新年/t 明亮/a 的/uj 阳光/nr 中/f ,/x 古老/nr 的/uj 天安门城楼/ns 显得/v 年轻/a 而/c 又/d 辉煌/a 。/x\n",
    "\n",
    "考虑所有的动词和名词。窗口（宽度为10）内的词语两两连边，得到的邻接矩阵和词语保存在`attachment/graph_T2.txt`和`attachment/vocab_T2.txt`中。"
   ]
  },
  {
   "cell_type": "code",
   "execution_count": null,
   "metadata": {
    "ExecuteTime": {
     "end_time": "2020-10-23T13:42:55.241547Z",
     "start_time": "2020-10-23T13:42:55.081340Z"
    }
   },
   "outputs": [],
   "source": [
    "A = np.loadtxt(\"attachment/graph_T2.txt\")\n",
    "f = open(\"attachment/vocab_T2.txt\", encoding = 'ansi')\n",
    "N = A.shape[0]\n",
    "words = [None] * N\n",
    "for obj in f.readlines():\n",
    "    id, st = obj.split(\" \")\n",
    "    st = st.strip(\"\\n\")\n",
    "    words[int(id)] = st"
   ]
  },
  {
   "cell_type": "markdown",
   "metadata": {},
   "source": [
    "请你根据邻接矩阵`A`求出转移概率矩阵`P`。你可以指定一个阻尼因子`d`."
   ]
  },
  {
   "cell_type": "code",
   "execution_count": null,
   "metadata": {
    "ExecuteTime": {
     "end_time": "2020-10-23T13:45:01.553799Z",
     "start_time": "2020-10-23T13:45:01.537198Z"
    }
   },
   "outputs": [],
   "source": [
    "d = 0.01 # 阻尼因子\n",
    "# TODO P = ???\n"
   ]
  },
  {
   "cell_type": "markdown",
   "metadata": {
    "ExecuteTime": {
     "end_time": "2020-10-23T13:45:02.289435Z",
     "start_time": "2020-10-23T13:45:02.051827Z"
    }
   },
   "source": [
    "用特征值分解的办法求出`P`的平稳分布，并按照Rank对词语从大到小排序。输出结果并观察。"
   ]
  },
  {
   "cell_type": "code",
   "execution_count": null,
   "metadata": {
    "ExecuteTime": {
     "end_time": "2020-10-23T13:56:14.630647Z",
     "start_time": "2020-10-23T13:56:14.597046Z"
    }
   },
   "outputs": [],
   "source": [
    "# TODO"
   ]
  },
  {
   "cell_type": "markdown",
   "metadata": {},
   "source": [
    "思考：\n",
    "结果好不好？请简要对结果进行分析，写在下面。"
   ]
  },
  {
   "cell_type": "markdown",
   "metadata": {},
   "source": [
    "TODO"
   ]
  },
  {
   "attachments": {},
   "cell_type": "markdown",
   "metadata": {},
   "source": [
    "### 3. 社区划分\n",
    "\n",
    "考虑2004年人民日报语料库中所有文本。用滑动窗口的办法建word graph，取出其中的动词和名词（取词频前2000高的词）。窗口（宽度为4）内的词语两两连边，得到的单词表和邻接矩阵见`attachment/noun+verb.txt`和`attachment/noun+verb_graph.txt`.\n",
    "\n",
    "语料库下载地址：https://disk.pku.edu.cn:443/link/DC77CEC49CE40F65311B16F11EA904AE"
   ]
  },
  {
   "cell_type": "code",
   "execution_count": null,
   "metadata": {
    "ExecuteTime": {
     "end_time": "2020-10-23T14:21:22.924227Z",
     "start_time": "2020-10-23T14:21:13.070371Z"
    }
   },
   "outputs": [],
   "source": [
    "A = np.loadtxt(\"attachment/noun+verb_graph.txt\")\n",
    "# TODO P = ???"
   ]
  },
  {
   "cell_type": "code",
   "execution_count": null,
   "metadata": {
    "ExecuteTime": {
     "end_time": "2020-10-23T14:21:41.651991Z",
     "start_time": "2020-10-23T14:21:41.617390Z"
    }
   },
   "outputs": [],
   "source": [
    "f = open(\"attachment/noun+verb.txt\", encoding = 'ansi')\n",
    "N = A.shape[0]\n",
    "words = [None] * A.shape[0]\n",
    "for obj in f.readlines():\n",
    "    id, st = obj.split(\" \")\n",
    "    st = st.strip(\"\\n\")\n",
    "    words[int(id)] = st"
   ]
  },
  {
   "cell_type": "markdown",
   "metadata": {},
   "source": [
    "请你利用`np.linalg.eig`对`P`求特征值和特征向量。选择聚类个数`K`，取出前`K`个特征向量，保存在`N`$\\times$`K`矩阵`U`中。"
   ]
  },
  {
   "cell_type": "code",
   "execution_count": null,
   "metadata": {
    "ExecuteTime": {
     "end_time": "2020-10-23T14:24:32.218698Z",
     "start_time": "2020-10-23T14:24:32.187498Z"
    }
   },
   "outputs": [],
   "source": [
    "K = 20\n",
    "# TODO "
   ]
  },
  {
   "cell_type": "markdown",
   "metadata": {},
   "source": [
    "进行Kmeans聚类。"
   ]
  },
  {
   "cell_type": "code",
   "execution_count": null,
   "metadata": {
    "ExecuteTime": {
     "end_time": "2020-10-23T14:28:01.505180Z",
     "start_time": "2020-10-23T14:28:01.497179Z"
    }
   },
   "outputs": [],
   "source": [
    "def Kmeans(feature, K):\n",
    "    '''\n",
    "    Kmeans clustering.\n",
    "    \n",
    "    features: Each row i represents the feature vector for object i.\n",
    "    K : the number of clusters.\n",
    "    \n",
    "    Returns:\n",
    "    ---------\n",
    "    An array of size N, representing the clustering index of each object.\n",
    "    '''\n",
    "\n",
    "c = Kmeans(U, K)"
   ]
  },
  {
   "cell_type": "markdown",
   "metadata": {},
   "source": [
    "输出聚类结果。对结果能否简要地给出一定的解释？"
   ]
  },
  {
   "cell_type": "code",
   "execution_count": null,
   "metadata": {},
   "outputs": [],
   "source": [
    "for label in range(K):\n",
    "    print(\"cluster %d\" % label)\n",
    "    for i in (c ==label).nonzero()[0]:\n",
    "        print(words[i], end = \", \")\n",
    "    print(\"\\n-----------\\n\")"
   ]
  },
  {
   "cell_type": "markdown",
   "metadata": {},
   "source": [
    "以下部分不做强制要求。如果你感兴趣，可以继续尝试修改聚类个数、修改`attachment/build_word_graph.cpp`的建图方式和权值计算方式来进行你进一步的探索。可以附在下面或另附python代码。"
   ]
  }
 ],
 "metadata": {
  "kernelspec": {
   "display_name": "Python 3",
   "language": "python",
   "name": "python3"
  },
  "language_info": {
   "codemirror_mode": {
    "name": "ipython",
    "version": 3
   },
   "file_extension": ".py",
   "mimetype": "text/x-python",
   "name": "python",
   "nbconvert_exporter": "python",
   "pygments_lexer": "ipython3",
   "version": "3.6.3"
  }
 },
 "nbformat": 4,
 "nbformat_minor": 2
}

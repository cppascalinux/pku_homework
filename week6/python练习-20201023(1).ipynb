{
 "cells": [
  {
   "cell_type": "markdown",
   "metadata": {},
   "source": [
    "# Python 第三次作业及一些相关的知识"
   ]
  },
  {
   "cell_type": "markdown",
   "metadata": {},
   "source": [
    "####  1. 使用 python 实现 设计模式中的观察者模式\n",
    "\n",
    "观察者模式也被称为发布-订阅（Publish/Subscribe）模式。当这个主题对象状态变化时，会通知所有观察者对象并作出相应处理逻辑。\n",
    "\n",
    "在本问题中，可以形象地理解成，Publisher为公众号，Reader为订阅公众号的人。需要实现订阅，退订，Publisher发布新消息，需要推送给所有已订阅的人。\n",
    "\n",
    "\n",
    "![观察者模式UML类图](./img/观察者模式UML类图.png)\n",
    "\n",
    "**Publisher（发布者）**\n",
    "    - 保存订阅的读者\n",
    "    - 保存已发布的消息\n",
    "    - 发布新消息时，发布给所有已订阅的读者\n",
    "    \n",
    "    共有三个发布者：PKUPublisher， THUPublisher， RUCPublisher\n",
    "    \n",
    "\n",
    "**Reader（读者）**\n",
    "    - 订阅/取消订阅 发布者\n",
    "    - 保存发布者发来的消息\n",
    "    \n",
    "    读者分为两种类型：\n",
    "        - Type1：不区分不同发布者的消息\n",
    "        - Type2：区分不同发布者的消息\n",
    "        \n",
    "    共有三个读者：alice， bob， tom  alice和bob为Type1， tom为Type2\n",
    "    \n",
    "    \n",
    "提示：   \n",
    "    Publisher： \n",
    "        - 保存读者应使用set，避免重复订阅\n",
    "        - 需要实现读者订阅/取消订阅，向读者发布消息功能\n",
    "        \n",
    "        \n",
    "   Reader：\n",
    "        - 保存发布者应使用set，避免重复\n",
    "        - 区分两种类型的读者的消息保存方式的subscribe/receive方法的不同\n",
    "        \n",
    "   \n",
    "\n",
    "\n",
    "\n",
    "\n",
    "注：各Publisher和Reader要求实现 str()功能   \n",
    "如：   \n",
    "str(pkuPublisher) 格式化输出：   \n",
    "Publisher Name: PKUPublisher   \n",
    "Subscribed Reader: ['tom', 'alice']   \n",
    "Publisher News: ['思想自由，兼容并包']   \n",
    "\n",
    "str(tom) 格式化输出：   \n",
    "Reader Name: tom   \n",
    "Subscribed Publisher: ['THUPublisher', 'PKUPublisher', 'RUCPublisher']   \n",
    "Reader News: {'PKUPublisher': ['思想自由，兼容并包'], 'THUPublisher': ['自强不息，厚德载物'], 'RUCPublisher': ['实事求是']}   \n",
    "\n",
    "\n",
    "#### 参考资料\n",
    "[1. Observer pattern Wiki](https://en.wikipedia.org/wiki/Observer_pattern)   \n",
    "[2. 设计模式之观察者模式（c++）](https://www.cnblogs.com/carsonzhu/p/5770253.html)"
   ]
  },
  {
   "cell_type": "code",
   "execution_count": 1,
   "metadata": {},
   "outputs": [
    {
     "output_type": "stream",
     "name": "stdout",
     "text": [
      "Publisher Name: PKUPublisher\nSubscribed Reader: ['alice', 'tom']\nPublisherNews: ['思想自由，兼容并包']\n\nPublisher Name: THUPublisher\nSubscribed Reader: ['alice', 'bob', 'tom']\nPublisherNews: ['自强不息，厚德载物']\n\nPublisher Name: RUCPublilsher\nSubscribed Reader: ['bob', 'tom']\nPublisherNews: ['实事求是']\n\nReader Name: alice\nSubscribed Publisher: ['THUPublisher', 'PKUPublisher']\nReader News: ['思想自由，兼容并包', '自强不息，厚德载物']\n\nReader Name: bob\nSubscribed Publisher: ['THUPublisher', 'RUCPublilsher']\nReader News: ['自强不息，厚德载物', '实事求是']\n\nReader Name: tom\nSubscribed Publisher: ['THUPublisher', 'RUCPublilsher', 'PKUPublisher']\nReader News: {'PKUPublisher': ['思想自由，兼容并包'], 'THUPublisher': ['自强不息，厚德载物'], 'RUCPublilsher': ['实事求是']}\n\n"
     ]
    }
   ],
   "source": [
    "# 发布者的基类\n",
    "class BasePublisher(object):\n",
    "    def __init__(self):\n",
    "        # BasePublisher 的初始化方法\n",
    "        # TODO\n",
    "        self.readers=set()\n",
    "        self.news=[]\n",
    "    def __str__(self):\n",
    "        name = f'Publisher Name: {self.name}\\n'\n",
    "        readers = f'Subscribed Reader: {[reader.name for reader in self.readers]}\\n'\n",
    "        news = f'PublisherNews: {self.news}\\n'\n",
    "        return name + readers + news\n",
    "\n",
    "    def subscribeReader(self, reader):\n",
    "        # Publisher 端的订阅函数\n",
    "        # TODO\n",
    "        self.readers.add(reader)\n",
    "\n",
    "\n",
    "    def unsubscribeReader(self, reader):\n",
    "        # Publisher 端的取消订阅函数\n",
    "        # TODO\n",
    "        self.readers.remove(reader)\n",
    "\n",
    "    def notifyReader(self, news):\n",
    "        self.news.append(news)\n",
    "        for reader in self.readers:\n",
    "            reader.receiveNews(self, news)\n",
    "\n",
    "\n",
    "# 北大\n",
    "class PKUPublisher(BasePublisher):\n",
    "    def __init__(self):\n",
    "        # PKUPublisher 的初始化方法\n",
    "        # TODO\n",
    "        super().__init__()\n",
    "        self.name='PKUPublisher'\n",
    "\n",
    "\n",
    "# 清华\n",
    "class THUPublisher(BasePublisher):\n",
    "    def __init__(self):\n",
    "        # THUPublisher 的初始化方法\n",
    "        # TODO\n",
    "        super().__init__()\n",
    "        self.name='THUPublisher'\n",
    "\n",
    "\n",
    "# 人大\n",
    "class RUCPublisher(BasePublisher):\n",
    "    def __init__(self):\n",
    "        # RUCPublisher 的初始化方法\n",
    "        # TODO\n",
    "        super().__init__()\n",
    "        self.name='RUCPublilsher'\n",
    "\n",
    "\n",
    "# 读者基类\n",
    "class BaseReader(object):\n",
    "\n",
    "    def __init__(self):\n",
    "        # BaseReader 的初始化方法\n",
    "        # TODO\n",
    "        self.publishers=set()\n",
    "\n",
    "    def __str__(self):\n",
    "        name = f'Reader Name: {self.name}\\n'\n",
    "        publisher = f'Subscribed Publisher: {[publisher.name for publisher in self.publishers]}\\n'\n",
    "        news = f'Reader News: {self.news}\\n'\n",
    "        return name + publisher + news\n",
    "\n",
    "    def subscribeToPublisher(self, publisher):\n",
    "        # Reader向Publisher订阅\n",
    "        # TODO\n",
    "        publisher.subscribeReader(self)\n",
    "        self.publishers.add(publisher)\n",
    "\n",
    "    def unsubscribeToPublisher(self, publisher):\n",
    "        # Reader向Publisher取消订阅\n",
    "        # TODO\n",
    "        publisher.unsubscribeReader(self)\n",
    "        self.publishers.remove(publisher)\n",
    "\n",
    "    def receiveNews(self, publisher, news):\n",
    "       pass\n",
    "\n",
    "\n",
    "# 第一种读者\n",
    "class ReaderType1(BaseReader):\n",
    "\n",
    "    def __init__(self, _name):\n",
    "        # TODO\n",
    "        super().__init__()\n",
    "        self.news=[]\n",
    "        self.name=_name\n",
    "\n",
    "    def subscribeToPublisher(self, publisher):\n",
    "        # Reader向Publisher订阅\n",
    "        # TODO\n",
    "        super().subscribeToPublisher(publisher)\n",
    "\n",
    "    def receiveNews(self, publisher, news):\n",
    "        # Reader 从 Publisher 接收消息\n",
    "        # TODO\n",
    "        self.news.append(news)\n",
    "\n",
    "\n",
    "\n",
    "# 第二种读者\n",
    "class ReaderType2(BaseReader):\n",
    "\n",
    "    def __init__(self, _name):\n",
    "        # TODO\n",
    "        super().__init__()\n",
    "        self.news={}\n",
    "        self.name=_name\n",
    "\n",
    "    def subscribeToPublisher(self, publisher):\n",
    "        # Reader向Publisher订阅\n",
    "        # TODO\n",
    "        super().subscribeToPublisher(publisher)\n",
    "        self.news[publisher.name]=[]\n",
    "    def receiveNews(self, publisher, news):\n",
    "        # TODO\n",
    "        self.news[publisher.name].append(news)\n",
    "# 创建三个发布者对象\n",
    "pkuPublisher = PKUPublisher()\n",
    "thuPublisher = THUPublisher()\n",
    "rucPublisher = RUCPublisher()\n",
    "\n",
    "# 创建三位读者，alice 和 bob 为 第一类， tom 为 第二类\n",
    "# TODO\n",
    "alice,bob=ReaderType1('alice'),ReaderType1('bob')\n",
    "tom=ReaderType2('tom')\n",
    "# alice 订阅了 pku， thu\n",
    "# TODO\n",
    "alice.subscribeToPublisher(pkuPublisher)\n",
    "alice.subscribeToPublisher(thuPublisher)\n",
    "# bob 订阅了 thu， ruc\n",
    "# TODO\n",
    "bob.subscribeToPublisher(thuPublisher)\n",
    "bob.subscribeToPublisher(rucPublisher)\n",
    "# tom 订阅了 pku， thu， ruc\n",
    "# TODO\n",
    "tom.subscribeToPublisher(pkuPublisher)\n",
    "tom.subscribeToPublisher(thuPublisher)\n",
    "tom.subscribeToPublisher(rucPublisher)\n",
    "# 发布者发布新消息\n",
    "pkuPublisher.notifyReader(\"思想自由，兼容并包\")\n",
    "thuPublisher.notifyReader(\"自强不息，厚德载物\")\n",
    "rucPublisher.notifyReader(\"实事求是\")\n",
    "\n",
    "print(str(pkuPublisher))\n",
    "print(str(thuPublisher))\n",
    "print(str(rucPublisher))\n",
    "print(str(alice))\n",
    "print(str(bob))\n",
    "print(str(tom))"
   ]
  },
  {
   "cell_type": "markdown",
   "metadata": {},
   "source": [
    "## numpy的一些矩阵操作\n",
    "\n",
    "可以参考：https://docs.scipy.org/doc/numpy/reference/routines.linalg.html\n",
    "\n",
    "比较for循环和调用numpy的用时差异。"
   ]
  },
  {
   "cell_type": "code",
   "execution_count": 2,
   "metadata": {
    "ExecuteTime": {
     "end_time": "2020-10-23T11:57:39.356992Z",
     "start_time": "2020-10-23T11:57:37.798778Z"
    }
   },
   "outputs": [
    {
     "output_type": "stream",
     "name": "stdout",
     "text": [
      "0.36038929999999425\n0.0034885999999971773\n"
     ]
    }
   ],
   "source": [
    "from timeit import timeit\n",
    "import numpy as np\n",
    "\n",
    "def func1(): #使用for循环计算a, b内积\n",
    "    s = 0\n",
    "    a = np.arange(1000)\n",
    "    b = np.arange(1000, 2000)\n",
    "    for i in range(1000):\n",
    "        s += a[i] * b[i]\n",
    "    return s\n",
    "\n",
    "def func2(): #使用numpy计算a, b内积\n",
    "    a = np.arange(1000)\n",
    "    b = np.arange(1000, 2000)\n",
    "    # TODO \n",
    "    return a*b\n",
    "print(timeit('func1()', 'from __main__ import func1',number =1000)) #各运行1000次\n",
    "print(timeit('func2()', 'from __main__ import func2',number =1000))"
   ]
  },
  {
   "cell_type": "markdown",
   "metadata": {},
   "source": [
    "首先请你创建三个矩阵$A, B, C$，它们都是服从标准正态分布的矩阵，其中$A$的大小为$200\\times 400$，$B$的大小为$400\\times 400$，$C$的大小为$400\\times 1$."
   ]
  },
  {
   "cell_type": "code",
   "execution_count": 3,
   "metadata": {},
   "outputs": [],
   "source": [
    "# 作业：添加你的代码\n",
    "\n",
    "import numpy as np\n",
    "np.random.seed(1)\n",
    "A=np.random.randn(200,400)\n",
    "B=np.random.randn(400,400)\n",
    "C=np.random.randn(400,1)"
   ]
  },
  {
   "cell_type": "markdown",
   "metadata": {},
   "source": [
    "### 1.计算$A+A$,$AA^T$,$A^TA$,$AB$. 然后写一个函数对于输入参数$\\lambda$，计算$A(B-\\lambda I)$."
   ]
  },
  {
   "cell_type": "code",
   "execution_count": 4,
   "metadata": {},
   "outputs": [
    {
     "output_type": "stream",
     "name": "stdout",
     "text": [
      "[[ 3.24869073 -1.22351283 -1.0563435  ...  1.84123024 -0.07073585\n   4.22121011]\n [-2.61306815  0.15276096  0.73446363 ... -1.40584081  1.45110104\n  -0.64840844]\n [ 1.62868626  1.56093986 -2.92810715 ... -2.8979831   1.55898373\n  -2.17260181]\n ...\n [ 0.77247648 -4.05260929 -0.15854556 ...  2.65605057  1.68954374\n  -5.95417538]\n [ 2.12375189  0.54389432 -0.26950394 ... -3.200415   -0.65289844\n  -1.50084184]\n [-1.77078697 -3.71637486  1.97046443 ... -0.73660592  3.35903033\n   0.16186653]]\n[[382.25123513  19.72579261  -5.41044944 ... -11.15580832  -2.57787009\n   29.07521085]\n [ 19.72579261 417.07037671   3.07525367 ...   1.54493692  -3.17868633\n  -19.26238669]\n [ -5.41044944   3.07525367 366.01687564 ...   2.93460707  13.78076981\n   19.34408635]\n ...\n [-11.15580832   1.54493692   2.93460707 ... 394.55092866 -13.88828895\n    9.21249118]\n [ -2.57787009  -3.17868633  13.78076981 ... -13.88828895 421.44500824\n    2.31851487]\n [ 29.07521085 -19.26238669  19.34408635 ...   9.21249118   2.31851487\n  423.73102019]]\n[[ 2.47719914e+02  4.66289743e+00  4.72493069e+00 ...  1.25280231e+00\n  -1.66891018e+00 -1.04482077e+01]\n [ 4.66289743e+00  1.97042998e+02 -2.70848930e+01 ...  5.76622602e+00\n  -1.17419086e+01  1.35750210e+01]\n [ 4.72493069e+00 -2.70848930e+01  2.04901091e+02 ...  1.52151938e+01\n   1.09408455e+01 -6.88838483e+00]\n ...\n [ 1.25280231e+00  5.76622602e+00  1.52151938e+01 ...  1.77343586e+02\n   5.21393494e+00  1.73641111e+01]\n [-1.66891018e+00 -1.17419086e+01  1.09408455e+01 ...  5.21393494e+00\n   1.75864009e+02 -9.66068607e-02]\n [-1.04482077e+01  1.35750210e+01 -6.88838483e+00 ...  1.73641111e+01\n  -9.66068607e-02  1.88210574e+02]]\n[[-21.94730059  -6.688914    -2.08578394 ...   6.68115163  10.66647328\n   30.58372456]\n [ 19.91569655  15.19970264  19.6560506  ... -14.10936587 -19.41258374\n    0.44681849]\n [ 21.33568017  10.12022412  19.22101462 ...  19.83022998 -33.50442313\n  -34.86707148]\n ...\n [  7.16478713  13.52804828  -6.37505647 ...  15.63614992  24.83787455\n   -4.36604489]\n [ 18.44503748   3.95712263  20.98043053 ... -35.77091084 -12.47812668\n    9.08543178]\n [-24.44905238   8.50069812  13.19996599 ...   0.83872954 -29.60474831\n   17.79550871]]\n"
     ]
    },
    {
     "output_type": "execute_result",
     "data": {
      "text/plain": [
       "array([[-22.75947327,  -6.38303579,  -1.82169806, ...,   6.22084407,\n",
       "         10.68415724,  29.52842203],\n",
       "       [ 20.56896358,  15.1615124 ,  19.47243469, ..., -13.75790567,\n",
       "        -19.775359  ,   0.6089206 ],\n",
       "       [ 20.9285086 ,   9.72998916,  19.95304141, ...,  20.55472576,\n",
       "        -33.89416906, -34.32392102],\n",
       "       ...,\n",
       "       [  6.97166801,  14.54120061,  -6.33542008, ...,  14.97213727,\n",
       "         24.41548861,  -2.87750105],\n",
       "       [ 17.91409951,   3.82114905,  21.04780651, ..., -34.97080709,\n",
       "        -12.31490207,   9.46064224],\n",
       "       [-24.00635563,   9.42979184,  12.70734988, ...,   1.02288102,\n",
       "        -30.44450589,  17.75504207]])"
      ]
     },
     "metadata": {},
     "execution_count": 4
    }
   ],
   "source": [
    "# 作业：添加你的代码\n",
    "\n",
    "print(A+A,np.dot(A,A.T),np.dot(A.T,A),np.dot(A,B),sep='\\n')\n",
    "def cal(lb):\n",
    "    return np.dot(A,(B-np.diag([lb]*B.shape[0])))\n",
    "cal(0.5)"
   ]
  },
  {
   "cell_type": "markdown",
   "metadata": {},
   "source": [
    "###  2 计算$Bx=C$的解。"
   ]
  },
  {
   "cell_type": "code",
   "execution_count": 5,
   "metadata": {},
   "outputs": [
    {
     "output_type": "stream",
     "name": "stdout",
     "text": [
      "[[ 1.17023513e+00]\n [ 7.91923301e-02]\n [ 1.03627019e+00]\n [ 1.31698536e+00]\n [ 6.64161463e-01]\n [ 8.52669085e-01]\n [-1.63681059e-01]\n [-8.01939608e-02]\n [ 7.13867037e-01]\n [-6.87733794e-01]\n [-3.16645240e+00]\n [ 1.74992991e-01]\n [-1.66927168e-01]\n [ 6.38129504e-01]\n [ 1.84899213e+00]\n [ 8.87387556e-01]\n [ 4.74054017e-01]\n [-1.26385541e+00]\n [ 1.44958910e+00]\n [-8.76112515e-01]\n [-2.59192476e-01]\n [-1.75669699e+00]\n [ 3.47985022e-01]\n [ 1.67165805e-02]\n [-1.49648802e+00]\n [ 1.01809581e+00]\n [-5.48098221e-01]\n [ 1.24306178e+00]\n [ 2.46189200e+00]\n [-1.48313049e+00]\n [-1.99573810e+00]\n [ 8.87725167e-02]\n [-5.81202337e-01]\n [ 6.31457634e-01]\n [-2.09560653e+00]\n [-2.21657125e-01]\n [ 5.33056084e-01]\n [ 1.38136543e+00]\n [ 5.36428718e-01]\n [ 2.49467072e+00]\n [-6.28340617e-01]\n [ 1.22226478e+00]\n [ 9.90895614e-01]\n [ 5.61038455e-01]\n [-2.54919618e+00]\n [ 4.85755294e-01]\n [ 1.37773851e+00]\n [-1.75304545e+00]\n [ 1.24841216e+00]\n [-1.47655862e+00]\n [-2.84090551e+00]\n [ 1.66527358e+00]\n [ 3.65956333e-01]\n [-1.00472327e+00]\n [-2.08667751e+00]\n [ 2.00568060e+00]\n [ 2.40830570e+00]\n [ 2.12729938e+00]\n [ 1.01056941e+00]\n [ 1.21057330e+00]\n [ 6.80142654e-02]\n [-3.30953584e-01]\n [-6.88557953e-01]\n [-1.54075917e-01]\n [ 5.49748379e-01]\n [-6.47023572e-01]\n [-4.23379690e-01]\n [-9.67694179e-01]\n [-1.47510167e+00]\n [ 1.11117372e+00]\n [ 2.49563350e+00]\n [-4.12152439e-01]\n [ 1.08517578e+00]\n [-9.73494400e-01]\n [-2.04839848e-01]\n [ 9.11209143e-01]\n [ 2.09116767e-01]\n [ 6.53890150e-01]\n [-9.45875520e-01]\n [-1.41594246e-01]\n [-2.28481219e-02]\n [ 3.81757835e-01]\n [ 1.11578088e+00]\n [-1.00089294e+00]\n [-1.33163107e+00]\n [ 9.33462556e-01]\n [ 1.44662029e+00]\n [-6.23804200e-01]\n [ 2.12229851e+00]\n [-3.84415093e+00]\n [ 8.23684354e-01]\n [-1.88110135e+00]\n [ 1.06616010e+00]\n [ 1.83103085e+00]\n [ 5.07951700e-01]\n [-1.52029040e-01]\n [ 2.67095563e+00]\n [ 5.59736875e-01]\n [ 1.09095953e+00]\n [ 7.09624077e-01]\n [ 7.31438966e-01]\n [ 8.28872600e-01]\n [ 1.09409390e+00]\n [ 2.17514666e+00]\n [ 5.17267345e-01]\n [-2.62740276e+00]\n [ 2.54044328e+00]\n [-1.09061665e+00]\n [ 6.87087735e-01]\n [ 1.15831485e-01]\n [-1.24901984e+00]\n [-7.37706248e-01]\n [-1.77761137e-01]\n [-7.03846173e-01]\n [-6.26712898e-01]\n [-9.11792101e-01]\n [-3.52587738e-01]\n [-2.02228942e+00]\n [ 2.98712544e+00]\n [ 1.31398992e+00]\n [-1.49640273e+00]\n [-9.60872466e-01]\n [-5.84697087e-01]\n [ 5.15167717e-01]\n [ 9.49806046e-01]\n [ 9.98366477e-01]\n [-5.43102950e-01]\n [ 9.84648008e-01]\n [-2.76617233e+00]\n [-1.17569889e+00]\n [-5.05950353e-01]\n [-3.21737798e-01]\n [ 8.53600859e-01]\n [ 1.66457666e+00]\n [-1.46929872e+00]\n [-2.30737546e-01]\n [-1.47851303e+00]\n [-6.40193876e-01]\n [-6.45017634e-01]\n [-1.41560365e+00]\n [-3.90486217e-01]\n [-1.08714107e+00]\n [ 2.52403433e+00]\n [ 1.70864974e-02]\n [ 1.58496677e+00]\n [-3.52109347e-01]\n [ 2.32168312e+00]\n [ 7.44690714e-01]\n [ 3.20438837e-01]\n [ 6.83771138e-01]\n [ 1.45085985e+00]\n [ 1.49211066e+00]\n [ 1.36826842e+00]\n [ 2.04643509e+00]\n [ 1.06934618e+00]\n [-1.34717155e+00]\n [ 5.41399354e-01]\n [ 2.45965796e+00]\n [ 5.80140201e-01]\n [-7.55350967e-01]\n [-9.65297823e-01]\n [ 2.25796576e+00]\n [ 1.10254543e+00]\n [-1.00008330e+00]\n [-7.48260146e-01]\n [-1.40774777e+00]\n [ 3.60962295e-01]\n [ 5.13797480e-01]\n [-1.31800271e+00]\n [-1.22664577e-01]\n [-1.67685820e+00]\n [-2.27672701e+00]\n [-5.07864589e-01]\n [ 1.95092978e+00]\n [ 8.32820208e-01]\n [-2.22813683e+00]\n [ 1.34956322e+00]\n [-7.31906631e-01]\n [ 1.31860930e+00]\n [-3.74166568e-01]\n [ 3.53351016e+00]\n [-1.03299642e+00]\n [-8.43863649e-01]\n [-6.84683331e-01]\n [-6.05740143e-01]\n [-1.54561012e+00]\n [-4.86496173e-01]\n [ 7.95885867e-01]\n [ 1.96231419e+00]\n [ 2.56146655e-01]\n [ 3.02750009e-01]\n [-5.10722086e-01]\n [ 4.48662988e-01]\n [-4.34863861e-01]\n [-2.99274577e-01]\n [-9.82220968e-01]\n [-7.58878895e-01]\n [ 2.64315958e-01]\n [ 4.45501089e-01]\n [ 6.11420037e-01]\n [-9.17953562e-01]\n [ 2.81386252e+00]\n [-5.71923849e-01]\n [ 2.32295941e-01]\n [ 7.69114973e-01]\n [ 3.57781500e-01]\n [ 1.61482249e+00]\n [-7.47447077e-02]\n [ 9.21669376e-01]\n [ 3.67833189e-01]\n [-2.30962118e+00]\n [-7.28052121e-01]\n [ 3.32669335e-01]\n [-7.15128884e-01]\n [ 2.03792351e-01]\n [ 2.66314520e-01]\n [-6.18323511e-01]\n [ 1.22879623e+00]\n [-7.58470186e-01]\n [ 2.35622859e+00]\n [-5.00610610e-01]\n [ 9.23073918e-01]\n [ 2.27905624e-01]\n [-5.13003987e-01]\n [-4.73709226e-01]\n [ 3.36263878e+00]\n [-7.97162553e-01]\n [-1.80014147e+00]\n [ 3.27140142e-01]\n [-3.15119994e-01]\n [-7.60472618e-01]\n [ 5.41962682e-01]\n [ 1.80356443e+00]\n [-3.63580355e-01]\n [ 3.53608592e+00]\n [-1.00860590e+00]\n [-2.41951717e-01]\n [-4.40182859e-01]\n [ 8.14162109e-01]\n [-1.52596603e-01]\n [ 1.52359738e+00]\n [-2.60205696e+00]\n [-2.31752231e+00]\n [ 6.38382589e-01]\n [ 1.74090280e+00]\n [-2.20995262e+00]\n [ 5.31277750e-01]\n [-1.65274020e+00]\n [ 5.18875709e-01]\n [-1.80762039e-01]\n [ 1.51591392e+00]\n [ 8.59478807e-01]\n [ 2.77795551e+00]\n [-8.07804779e-01]\n [-3.96975666e-01]\n [-1.00545465e+00]\n [-3.30510730e-01]\n [ 6.46100284e-01]\n [-6.12110087e-01]\n [-7.07992071e-01]\n [ 1.88670668e-01]\n [-6.91040512e-01]\n [ 2.47648158e+00]\n [-6.07003045e-02]\n [ 5.58496183e-01]\n [ 9.09666687e-01]\n [-4.76203970e-01]\n [-1.11330366e+00]\n [ 3.14791084e-01]\n [ 6.70128771e-01]\n [ 3.04978743e-01]\n [-1.62659457e+00]\n [ 1.02104599e+00]\n [-5.65911527e-01]\n [-1.42898203e+00]\n [ 1.44044419e-01]\n [ 2.88449163e-02]\n [-6.66168236e-01]\n [ 2.52576748e+00]\n [-9.61881674e-01]\n [ 9.43759716e-01]\n [-6.38190094e-01]\n [-1.16315408e+00]\n [ 2.04852217e+00]\n [-5.15613585e-01]\n [ 3.51548002e-01]\n [ 8.52633958e-02]\n [ 1.61981149e+00]\n [-1.40401763e+00]\n [ 7.31411394e-01]\n [-9.76837833e-04]\n [ 8.11574144e-01]\n [ 2.23242947e-01]\n [ 1.51181555e+00]\n [-6.67821574e-01]\n [ 4.34238108e-01]\n [ 1.09676864e+00]\n [-1.29811821e-01]\n [-5.25802323e-01]\n [ 1.52547251e+00]\n [-1.07840204e+00]\n [-5.76474631e-01]\n [ 1.01757741e+00]\n [-2.76387289e+00]\n [-1.80609110e+00]\n [ 4.06472165e-02]\n [-2.86239321e+00]\n [ 1.25672317e+00]\n [-2.55961079e-01]\n [ 5.86549031e-04]\n [-1.70834606e+00]\n [ 3.76885281e-01]\n [-4.16148686e-02]\n [ 4.68229782e-01]\n [ 1.26504774e-01]\n [ 3.00246943e+00]\n [ 7.49881341e-01]\n [ 8.29818438e-02]\n [-1.46701413e+00]\n [-3.35544070e-01]\n [-1.33563259e+00]\n [ 1.36152734e+00]\n [-1.32170928e+00]\n [-1.01725290e+00]\n [ 1.01481151e+00]\n [ 1.54531018e+00]\n [-3.85992164e-02]\n [-4.72771080e-01]\n [ 4.25262184e-01]\n [ 1.95009539e+00]\n [-1.74543784e+00]\n [-1.35372735e+00]\n [ 1.51920425e-01]\n [ 1.68486828e+00]\n [-4.11753857e-01]\n [ 2.43285019e+00]\n [-4.59117798e-01]\n [ 9.66917315e-01]\n [-7.81669045e-01]\n [-9.29176569e-01]\n [ 9.22429836e-01]\n [-3.37606936e-01]\n [ 1.57981098e+00]\n [ 3.13486856e+00]\n [ 4.49343823e-02]\n [ 7.13176156e-01]\n [ 8.06696731e-01]\n [-2.03196025e+00]\n [-1.31737023e+00]\n [ 2.54379419e+00]\n [ 1.54073900e+00]\n [ 1.15149972e+00]\n [ 1.63693697e+00]\n [ 3.53922668e+00]\n [ 2.82653426e-01]\n [-2.34160596e+00]\n [-2.44127847e-01]\n [ 1.22622776e+00]\n [ 1.68538170e+00]\n [ 1.47322576e+00]\n [ 1.34264802e-01]\n [ 2.10841227e+00]\n [ 1.61289514e+00]\n [ 4.71754647e-01]\n [-2.78821267e+00]\n [ 1.77282649e-01]\n [ 7.59237369e-01]\n [-1.06356617e+00]\n [-8.42691970e-01]\n [-6.15185562e-01]\n [-1.54188235e+00]\n [ 1.36093086e+00]\n [ 2.58296867e-01]\n [-1.14885451e+00]\n [ 8.34878666e-01]\n [-2.12548335e+00]\n [ 4.88538930e-02]\n [ 3.75500074e-01]\n [ 9.88193642e-01]\n [-9.95867162e-01]\n [-1.33320032e+00]\n [-6.48527168e-01]\n [-5.61381583e-02]\n [-8.40361079e-01]\n [-1.79802354e+00]\n [ 5.83928970e-01]\n [ 8.22127635e-01]\n [-6.16920758e-01]\n [ 6.13757964e-01]\n [ 8.46745044e-01]\n [ 6.69450849e-01]\n [-1.80999655e+00]\n [ 1.14914997e+00]\n [ 2.51311355e+00]\n [ 1.39605712e+00]\n [ 2.64672907e-01]\n [-1.24723636e+00]\n [-4.58612870e-01]\n [-5.09737091e-01]\n [ 7.17743925e-01]]\n"
     ]
    }
   ],
   "source": [
    "# 作业：添加你的代码\n",
    "db=np.linalg.det(B)\n",
    "if db==0:\n",
    "    print('Error: no solution or infinite solution')\n",
    "else:\n",
    "    print(np.dot(np.linalg.inv(B),C))"
   ]
  },
  {
   "cell_type": "code",
   "execution_count": null,
   "metadata": {},
   "outputs": [],
   "source": []
  }
 ],
 "metadata": {
  "kernelspec": {
   "display_name": "Python 3",
   "language": "python",
   "name": "python3"
  },
  "language_info": {
   "codemirror_mode": {
    "name": "ipython",
    "version": 3
   },
   "file_extension": ".py",
   "mimetype": "text/x-python",
   "name": "python",
   "nbconvert_exporter": "python",
   "pygments_lexer": "ipython3",
   "version": "3.8.3-final"
  }
 },
 "nbformat": 4,
 "nbformat_minor": 2
}